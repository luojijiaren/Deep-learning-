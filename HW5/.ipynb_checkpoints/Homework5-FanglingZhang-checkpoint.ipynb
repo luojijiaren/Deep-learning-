{
 "cells": [
  {
   "cell_type": "code",
   "execution_count": 6,
   "metadata": {
    "collapsed": false
   },
   "outputs": [],
   "source": [
    "from numpy import *\n",
    "import numpy as np\n",
    "X=np.load(\"mnist_train_images.npy\")\n",
    "Y=np.load(\"mnist_train_labels.npy\")\n",
    "\n"
   ]
  },
  {
   "cell_type": "code",
   "execution_count": 18,
   "metadata": {
    "collapsed": false
   },
   "outputs": [
    {
     "data": {
      "text/plain": [
       "(55000, 784)"
      ]
     },
     "execution_count": 18,
     "metadata": {},
     "output_type": "execute_result"
    }
   ],
   "source": [
    "X.shape"
   ]
  },
  {
   "cell_type": "code",
   "execution_count": 19,
   "metadata": {
    "collapsed": false
   },
   "outputs": [],
   "source": [
    "from numpy import random\n",
    "W1=random.uniform(-1/sqrt(784),1/sqrt(784),size=(784,30))\n",
    "W2=random.uniform(-1/sqrt(30),1/sqrt(30),size=(30,10))\n",
    "b1=0.01*ones([55000,30])\n",
    "b2=0.01*ones([55000,10])"
   ]
  },
  {
   "cell_type": "code",
   "execution_count": 27,
   "metadata": {
    "collapsed": false
   },
   "outputs": [],
   "source": [
    "\n",
    "z1=np.dot(X,W1)+b1\n",
    "h1=where(z1<0,0,z1)\n",
    "z2=np.dot(h1,W2)+b2\n",
    "f=exp(z2)\n",
    "y_hat=f/f.sum(axis=1)[:,None]\n"
   ]
  },
  {
   "cell_type": "code",
   "execution_count": 34,
   "metadata": {
    "collapsed": false
   },
   "outputs": [
    {
     "data": {
      "text/plain": [
       "array([[ 0.10843784,  0.1084592 ,  0.08605264, ..., -0.91374675,\n",
       "         0.09152473,  0.10734023],\n",
       "       [ 0.1003187 ,  0.1049224 ,  0.10339641, ...,  0.09101763,\n",
       "         0.08638534,  0.10770438],\n",
       "       [ 0.10968423,  0.11282743,  0.09579005, ...,  0.09349381,\n",
       "         0.09677238,  0.10271295],\n",
       "       ..., \n",
       "       [ 0.09915853,  0.10442529,  0.10423284, ...,  0.09400315,\n",
       "         0.09287873,  0.10483027],\n",
       "       [ 0.10517027,  0.09601709,  0.09676412, ...,  0.09282335,\n",
       "         0.09204084,  0.1121212 ],\n",
       "       [ 0.10445613,  0.10541826,  0.09732688, ...,  0.08453307,\n",
       "        -0.90816985,  0.10847521]])"
      ]
     },
     "execution_count": 34,
     "metadata": {},
     "output_type": "execute_result"
    }
   ],
   "source": []
  },
  {
   "cell_type": "code",
   "execution_count": 48,
   "metadata": {
    "collapsed": false
   },
   "outputs": [],
   "source": [
    "gt=np.dot((y_hat-Y),W2.T)*sign(z1)\n",
    "m=gt.shape[0]\n",
    "n=gt.shape[1]\n",
    "g=zeros([55000,784*30])\n",
    "for i in range(0,55000):\n",
    "    for j in range(0,30):\n",
    "        g[i,784*j:784*(j+1)]=gt[i,j]*X[i,:]\n",
    "   "
   ]
  },
  {
   "cell_type": "code",
   "execution_count": null,
   "metadata": {
    "collapsed": true
   },
   "outputs": [],
   "source": []
  },
  {
   "cell_type": "code",
   "execution_count": null,
   "metadata": {
    "collapsed": true
   },
   "outputs": [],
   "source": [
    "grad_W1=zeros([784,30])\n",
    "for j in range(0,n):    \n",
    "    grad[j]=grad[i,:]+grad[i,j]\n",
    "    grad_W1= "
   ]
  },
  {
   "cell_type": "code",
   "execution_count": 39,
   "metadata": {
    "collapsed": false
   },
   "outputs": [
    {
     "data": {
      "text/plain": [
       "array([ 0.01761677,  0.41037645,  0.48785226, -0.50533703, -0.01230604,\n",
       "       -0.69197062])"
      ]
     },
     "execution_count": 39,
     "metadata": {},
     "output_type": "execute_result"
    }
   ],
   "source": [
    "a=random.uniform(-1,1,size=6)\n",
    "a"
   ]
  },
  {
   "cell_type": "code",
   "execution_count": 40,
   "metadata": {
    "collapsed": false
   },
   "outputs": [
    {
     "data": {
      "text/plain": [
       "array([ 1.,  1.,  1., -1., -1., -1.])"
      ]
     },
     "execution_count": 40,
     "metadata": {},
     "output_type": "execute_result"
    }
   ],
   "source": [
    "sign(a)"
   ]
  },
  {
   "cell_type": "code",
   "execution_count": 25,
   "metadata": {
    "collapsed": true
   },
   "outputs": [],
   "source": [
    "\n",
    "\n",
    "\n",
    "\n",
    "def J (w, faces, labels):\n",
    "    f=exp(np.dot(faces,w))\n",
    "    y_hat=f/f.sum(axis=1)[:,None]\n",
    "    m=labels.shape[0]\n",
    "    Jsum=0\n",
    "    for i in range(0,m):\n",
    "        Jsum=Jsum+np.dot(labels[i,:].T,log(y_hat[i,:]))\n",
    "    J=-1/m*Jsum\n",
    "    return J  \n",
    "\n",
    "def gradJ (w, faces, labels):\n",
    "    f=exp(np.dot(faces,w))\n",
    "    y_hat=f/f.sum(axis=1)[:,None]\n",
    "    gradJ=np.dot(faces.T,(y_hat-labels))\n",
    "    return gradJ "
   ]
  },
  {
   "cell_type": "code",
   "execution_count": null,
   "metadata": {
    "collapsed": true
   },
   "outputs": [],
   "source": []
  },
  {
   "cell_type": "code",
   "execution_count": null,
   "metadata": {
    "collapsed": true
   },
   "outputs": [],
   "source": []
  },
  {
   "cell_type": "code",
   "execution_count": null,
   "metadata": {
    "collapsed": true
   },
   "outputs": [],
   "source": []
  },
  {
   "cell_type": "code",
   "execution_count": 4,
   "metadata": {
    "collapsed": false
   },
   "outputs": [
    {
     "data": {
      "text/plain": [
       "array([[ 0.,  0.,  0., ...,  0.,  0.,  0.],\n",
       "       [ 0.,  0.,  0., ...,  0.,  0.,  0.],\n",
       "       [ 0.,  0.,  0., ...,  0.,  0.,  0.],\n",
       "       ..., \n",
       "       [ 0.,  0.,  0., ...,  0.,  0.,  0.],\n",
       "       [ 0.,  0.,  0., ...,  0.,  0.,  0.],\n",
       "       [ 0.,  0.,  0., ...,  0.,  0.,  0.]])"
      ]
     },
     "execution_count": 4,
     "metadata": {},
     "output_type": "execute_result"
    }
   ],
   "source": [
    "    w=np.zeros((784,10)) # Or set to random vector\n",
    "    J_dif=1\n",
    "    cost=[]\n",
    "    n=0\n",
    "    while J_dif > 0.001:\n",
    "        J0=J (w, trainingX, trainingY)\n",
    "        Des_gradJ=gradJ (w, trainingX, trainingY)\n",
    "        w=w-0.000002*Des_gradJ\n",
    "        J1=J (w, trainingX, trainingY)\n",
    "        J_dif=J0-J1\n",
    "        cost.append(J1)\n",
    "    cost\n",
    "    w\n",
    "\n",
    "    \n"
   ]
  },
  {
   "cell_type": "code",
   "execution_count": 27,
   "metadata": {
    "collapsed": false
   },
   "outputs": [
    {
     "name": "stdout",
     "output_type": "stream",
     "text": [
      "Training cost:['0.5396', '0.5384', '0.5371', '0.5359', '0.5348', '0.5336', '0.5324', '0.5313', '0.5302', '0.5291', '0.5280', '0.5269', '0.5258', '0.5247', '0.5237', '0.5227', '0.5216', '0.5206', '0.5196', '0.5186'] \n"
     ]
    }
   ],
   "source": [
    "myList=cost[-20:]\n",
    "b=['%.4f' %elem for elem in myList]\n",
    "print(\"Training cost:{} \".format(b) )\n",
    " "
   ]
  },
  {
   "cell_type": "code",
   "execution_count": 46,
   "metadata": {
    "collapsed": false
   },
   "outputs": [],
   "source": [
    " \n",
    "f=exp(np.dot(testingX,w))\n",
    "y_hat=f/f.sum(axis=1)[:,None]\n"
   ]
  },
  {
   "cell_type": "code",
   "execution_count": 33,
   "metadata": {
    "collapsed": false
   },
   "outputs": [
    {
     "data": {
      "text/plain": [
       "array([7, 2, 1, ..., 4, 8, 6], dtype=int64)"
      ]
     },
     "execution_count": 33,
     "metadata": {},
     "output_type": "execute_result"
    }
   ],
   "source": [
    "y_hat.argmax(axis=1)"
   ]
  },
  {
   "cell_type": "code",
   "execution_count": 47,
   "metadata": {
    "collapsed": false
   },
   "outputs": [
    {
     "name": "stdout",
     "output_type": "stream",
     "text": [
      "The accuracy on the testing set: 0.8816\n"
     ]
    }
   ],
   "source": [
    "f=exp(np.dot(testingX,w))\n",
    "y_hat=f/f.sum(axis=1)[:,None]\n",
    "m=testingY.shape[0]\n",
    "n=0\n",
    "for i in range(0,m):\n",
    "    for j in range(0,10):\n",
    "        if (y_hat[i,j]==np.sort(y_hat[i,:])[-1]):\n",
    "            y_hat[i,j]=1\n",
    "        else:\n",
    "            y_hat[i,j]=0   \n",
    "                                  \n",
    "    if (y_hat[i,:]==testingY[i,:]).all():\n",
    "        n=n+1\n",
    "a=round(n/m,4)\n",
    "print(\"The accuracy on the testing set: {}\".format(a))"
   ]
  }
 ],
 "metadata": {
  "anaconda-cloud": {},
  "kernelspec": {
   "display_name": "Python [conda root]",
   "language": "python",
   "name": "conda-root-py"
  },
  "language_info": {
   "codemirror_mode": {
    "name": "ipython",
    "version": 3
   },
   "file_extension": ".py",
   "mimetype": "text/x-python",
   "name": "python",
   "nbconvert_exporter": "python",
   "pygments_lexer": "ipython3",
   "version": "3.5.2"
  }
 },
 "nbformat": 4,
 "nbformat_minor": 1
}
