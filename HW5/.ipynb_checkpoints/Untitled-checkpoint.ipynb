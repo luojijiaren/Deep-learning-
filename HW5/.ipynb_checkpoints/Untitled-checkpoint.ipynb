{
 "cells": [
  {
   "cell_type": "code",
   "execution_count": 21,
   "metadata": {
    "collapsed": true
   },
   "outputs": [],
   "source": [
    "from numpy import *\n",
    "import numpy as np\n",
    "faces=np.load(\"mnist_train_images.npy\")\n",
    "labels=np.load(\"mnist_train_labels.npy\")\n",
    "valX=np.load(\"mnist_validation_images.npy\")\n",
    "valY=np.load(\"mnist_validation_labels.npy\")\n",
    "from numpy import random\n",
    "W1=random.uniform(-1/sqrt(784),1/sqrt(784),size=(784,30))\n",
    "W2=random.uniform(-1/sqrt(30),1/sqrt(30),size=(30,10))\n"
   ]
  },
  {
   "cell_type": "code",
   "execution_count": 22,
   "metadata": {
    "collapsed": false
   },
   "outputs": [],
   "source": [
    "def J (W1, W2,b1,b2,faces, labels):  \n",
    "    z1=np.dot(faces,W1)+b1\n",
    "    h1=where(z1<0,0,z1)\n",
    "    z2=np.dot(h1,W2)+b2\n",
    "    f=exp(z2)\n",
    "    y_hat=f/f.sum(axis=1)[:,None]    \n",
    "    m=labels.shape[0]\n",
    "    Jsum=0\n",
    "    for i in range(0,m):\n",
    "        Jsum=Jsum+np.dot(log(y_hat[i,:]),labels[i,:].T)\n",
    "    Cost=-1/m*Jsum\n",
    "    return Cost        \n",
    "\n",
    "def gradJ (W1, W2,b1,b2,faces, labels):\n",
    "    z1=np.dot(faces,W1)+b1\n",
    "    h1=where(z1<0,0,z1)\n",
    "    z2=np.dot(h1,W2)+b2\n",
    "    f=exp(z2)\n",
    "    y_hat=f/f.sum(axis=1)[:,None]  \n",
    "    \n",
    "    gt=np.dot((y_hat-labels),W2.T)*sign(z1)\n",
    "    m=labels.shape[0] \n",
    "    n=W1.shape[0]\n",
    "    p=W1.shape[1]\n",
    "    g=zeros([m,n*p])\n",
    "    for i in range(0,m):\n",
    "        for j in range(0,p):\n",
    "            g[i,n*j:n*(j+1)]=gt[i,j]*faces[i,:]\n",
    "    g2=np.sum(g,axis=0)   #Sum up all W1 gradient of all samples in given dataset\n",
    "    grad_W1=zeros([n,p])    \n",
    "    for j in range(0,p):\n",
    "        for i in range(0,n):\n",
    "            grad_W1[i,j]=g2[n*j+i]\n",
    "            \n",
    "    grad_W2=np.dot(h1.T,(y_hat-labels)) #Sum up all W2 gradient of all samples in given dataset\n",
    "    \n",
    "    \n",
    "    #need to add grad_b1,grad_b2\n",
    "    return grad_W1,grad_W2 "
   ]
  },
  {
   "cell_type": "code",
   "execution_count": 35,
   "metadata": {
    "collapsed": false
   },
   "outputs": [],
   "source": [
    "    def SGD(W1, W2,faces, labels, epochs, mini_batch_size, eta,valX,valY):\n",
    "        b1=0.01*ones([mini_batch_size,30])\n",
    "        b2=0.01*ones([mini_batch_size,10])\n",
    "        for j in range(epochs):\n",
    "        \n",
    "            training_data=np.hstack([faces,labels])\n",
    "            random.shuffle(training_data)\n",
    "            m=labels.shape[0] \n",
    "            mini_batches = [\n",
    "                training_data[k:k+mini_batch_size]\n",
    "                for k in range(0, m, mini_batch_size)]\n",
    "            J_dif=1\n",
    "            while J_dif > 0.1:\n",
    "                for mini_batch in mini_batches[:-1]:\n",
    "\n",
    "                    X= mini_batch[:,:784]\n",
    "                    Y= mini_batch[:,-10:]\n",
    "\n",
    "\n",
    "                    J0=J (W1, W2,b1,b2,X,Y)\n",
    "                    grad_W1,grad_W2= gradJ (W1,W2,b1,b2,X,Y)\n",
    "                    W1=W1-eta/mini_batch_size*grad_W1\n",
    "                    W2=W2-eta/mini_batch_size*grad_W2               \n",
    "                    J1 = J (W1, W2,b1,b2,X,Y)\n",
    "                    J_dif=J0-J1\n",
    "\n",
    " \n",
    "            m=valY.shape[0]\n",
    "            b3=0.01*ones([m,30])\n",
    "            b4=0.01*ones([m,10])\n",
    "            z1=np.dot(valX,W1)+b3\n",
    "            h1=where(z1<0,0,z1)\n",
    "            z2=np.dot(h1,W2)+b4\n",
    "            f=exp(z2)\n",
    "            y_hat=f/f.sum(axis=1)[:,None]   \n",
    "           \n",
    "            n=0\n",
    "            for i in range(0,m):\n",
    "                for j in range(0,10):\n",
    "                    if (y_hat[i,j]==np.sort(y_hat[i,:])[-1]):\n",
    "                        y_hat[i,j]=1\n",
    "                    else:\n",
    "                        y_hat[i,j]=0   \n",
    "                                  \n",
    "                if (y_hat[i,:]==valY[i,:]).all():\n",
    "                    n=n+1\n",
    "            a=round(n/m,4)\n",
    "            print(\"The accuracy on the testing set: {}\".format(a))\n",
    "                \n"
   ]
  },
  {
   "cell_type": "code",
   "execution_count": 37,
   "metadata": {
    "collapsed": false
   },
   "outputs": [
    {
     "name": "stdout",
     "output_type": "stream",
     "text": [
      "The accuracy on the testing set: 0.884\n",
      "The accuracy on the testing set: 0.9098\n",
      "The accuracy on the testing set: 0.919\n",
      "The accuracy on the testing set: 0.9262\n",
      "The accuracy on the testing set: 0.9286\n",
      "The accuracy on the testing set: 0.937\n",
      "The accuracy on the testing set: 0.9398\n",
      "The accuracy on the testing set: 0.9418\n",
      "The accuracy on the testing set: 0.9444\n",
      "The accuracy on the testing set: 0.9466\n",
      "The accuracy on the testing set: 0.948\n",
      "The accuracy on the testing set: 0.9474\n",
      "The accuracy on the testing set: 0.9508\n",
      "The accuracy on the testing set: 0.9506\n",
      "The accuracy on the testing set: 0.952\n",
      "The accuracy on the testing set: 0.9518\n",
      "The accuracy on the testing set: 0.9508\n",
      "The accuracy on the testing set: 0.9502\n",
      "The accuracy on the testing set: 0.9524\n",
      "The accuracy on the testing set: 0.9536\n"
     ]
    }
   ],
   "source": [
    "        epochs=20\n",
    "        mini_batch_size=256\n",
    "        eta=0.1\n",
    "\n",
    "        SGD(W1, W2,faces, labels, epochs, mini_batch_size, eta,valX,valY)\n"
   ]
  },
  {
   "cell_type": "code",
   "execution_count": null,
   "metadata": {
    "collapsed": true
   },
   "outputs": [],
   "source": []
  },
  {
   "cell_type": "code",
   "execution_count": null,
   "metadata": {
    "collapsed": true
   },
   "outputs": [],
   "source": []
  }
 ],
 "metadata": {
  "anaconda-cloud": {},
  "kernelspec": {
   "display_name": "Python [default]",
   "language": "python",
   "name": "python3"
  },
  "language_info": {
   "codemirror_mode": {
    "name": "ipython",
    "version": 3
   },
   "file_extension": ".py",
   "mimetype": "text/x-python",
   "name": "python",
   "nbconvert_exporter": "python",
   "pygments_lexer": "ipython3",
   "version": "3.5.2"
  }
 },
 "nbformat": 4,
 "nbformat_minor": 1
}
