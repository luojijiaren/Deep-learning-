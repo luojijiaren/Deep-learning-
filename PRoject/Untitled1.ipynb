{
 "cells": [
  {
   "cell_type": "code",
   "execution_count": 31,
   "metadata": {
    "collapsed": true
   },
   "outputs": [],
   "source": [
    "import tensorflow as tf \n",
    "import scipy.io\n",
    "import numpy as np\n",
    "import matplotlib.pyplot as plt\n",
    "from collections import Counter\n",
    "from sklearn.linear_model import SGDClassifier\n",
    "#==================EXTRACTING AND ANALYSING DATA FROM .mat FILES===============\n",
    "\"\"\"\n",
    "X and Y Components of Training and Testing Data\n",
    "\"\"\"\n",
    "train_data = scipy.io.loadmat('train_32x32.mat')['X']\n",
    "train_labels = scipy.io.loadmat('train_32x32.mat')['y']\n",
    "test_data = scipy.io.loadmat('test_32x32.mat')['X']\n",
    "test_labels = scipy.io.loadmat('test_32x32.mat')['y']\n",
    "shape_train = train_data.shape\n",
    "shape_test = test_data.shape"
   ]
  },
  {
   "cell_type": "code",
   "execution_count": 33,
   "metadata": {
    "collapsed": false
   },
   "outputs": [],
   "source": [
    "def reformat(data):\n",
    "    xtrain = []\n",
    "    trainLen = data.shape[3]\n",
    "    for x in range(trainLen):\n",
    "        xtrain.append(data[:,:,:,x])\n",
    "    xtrain = np.asarray(xtrain)\n",
    "    \n",
    "    return xtrain\n",
    "train_data = reformat(train_data)\n",
    "test_data = reformat(test_data)\n",
    "train_labels=tf.one_hot(indices=train_labels,depth=10)\n",
    "test_labels=tf.one_hot(indices=test_labels,depth=10)"
   ]
  },
  {
   "cell_type": "code",
   "execution_count": 39,
   "metadata": {
    "collapsed": false
   },
   "outputs": [
    {
     "data": {
      "text/plain": [
       "<tf.Tensor 'one_hot_9:0' shape=(26032, 1, 10) dtype=float32>"
      ]
     },
     "execution_count": 39,
     "metadata": {},
     "output_type": "execute_result"
    }
   ],
   "source": [
    "test_labels"
   ]
  },
  {
   "cell_type": "code",
   "execution_count": 38,
   "metadata": {
    "collapsed": false
   },
   "outputs": [],
   "source": [
    "image_size = 32\n",
    "width = 32\n",
    "height = 32\n",
    "channels = 3\n",
    "\n",
    "n_labels = 10\n",
    "patch = 5\n",
    "depth = 16\n",
    "hidden = 128\n",
    "dropout = 0.9375\n",
    "\n",
    "batch = 16\n",
    "learning_rate = 0.001\n",
    "tf_train_dataset = tf.placeholder(tf.float32, shape=(None, width, height, channels))\n",
    "#Training Labels\n",
    "tf_train_labels = tf.placeholder(tf.float32, shape=(None, n_labels))\n",
    "#Testing Dataset\n",
    "tf_test_dataset = tf.constant(test_data)\n",
    "\n",
    "#   Layer 1: (5, 5, 3, 16)\n",
    "layer1_weights = tf.Variable(tf.truncated_normal([patch, patch, channels, depth], stddev=0.1))\n",
    "layer1_biases = tf.Variable(tf.constant(1.0, shape=[depth]))\n",
    "\n",
    "#   Layer 2: (5, 5, 16, 16)\n",
    "layer2_weights = tf.Variable(tf.truncated_normal([patch, patch, depth, depth], stddev=0.1))\n",
    "layer2_biases = tf.Variable(tf.constant(1.0, shape=[depth]))\n",
    "\n",
    "#   Layer 3: (1024, 128)\n",
    "layer3_weights = tf.Variable(tf.truncated_normal([image_size // 4 * image_size // 4 * depth, hidden], stddev=0.1))\n",
    "layer3_biases = tf.Variable(tf.constant(1.0, shape=[hidden]))\n",
    "\n",
    "#   Layer 4: (128, 10)\n",
    "layer4_weights = tf.Variable(tf.truncated_normal([hidden, n_labels], stddev=0.1))\n",
    "layer4_biases = tf.Variable(tf.constant(1.0, shape=[n_labels]))\n",
    "\n",
    "dropout = tf.placeholder(tf.float32)"
   ]
  },
  {
   "cell_type": "code",
   "execution_count": 3,
   "metadata": {
    "collapsed": false
   },
   "outputs": [
    {
     "data": {
      "image/png": "[encoded data removed]",
      "text/plain": [
       "<matplotlib.figure.Figure at 0x22304c70908>"
      ]
     },
     "metadata": {},
     "output_type": "display_data"
    }
   ],
   "source": [
    "temp_labels = train_labels.reshape(73257).tolist()\n",
    "temp_labels = dict(Counter(temp_labels))\n",
    "plt.bar(range(len(temp_labels)), temp_labels.values(), align='center', label='Training Labels')\n",
    "plt.xticks(range(len(temp_labels)), temp_labels.keys())\n",
    "temp_labels = test_labels.reshape(26032).tolist()\n",
    "temp_labels = dict(Counter(temp_labels))\n",
    "plt.bar(range(len(temp_labels)), temp_labels.values(), align='center', color='red', label='Testing Labels')\n",
    "plt.legend()\n",
    "plt.xlabel('Class Labels')\n",
    "plt.ylabel('Frequency')\n",
    "plt.title('Frequency Distribution of Class Labels')\n",
    "plt.show()"
   ]
  },
  {
   "cell_type": "code",
   "execution_count": 6,
   "metadata": {
    "collapsed": false
   },
   "outputs": [
    {
     "data": {
      "text/plain": [
       "{1: 5099,\n",
       " 2: 4149,\n",
       " 3: 2882,\n",
       " 4: 2523,\n",
       " 5: 2384,\n",
       " 6: 1977,\n",
       " 7: 2019,\n",
       " 8: 1660,\n",
       " 9: 1595,\n",
       " 10: 1744}"
      ]
     },
     "execution_count": 6,
     "metadata": {},
     "output_type": "execute_result"
    }
   ],
   "source": [
    "temp_labels"
   ]
  },
  {
   "cell_type": "code",
   "execution_count": 7,
   "metadata": {
    "collapsed": false
   },
   "outputs": [
    {
     "name": "stdout",
     "output_type": "stream",
     "text": [
      "73257 Images with 32 x 32 RGB grid\n"
     ]
    }
   ],
   "source": [
    "print(shape_train[3], \"Images with\", shape_train[0], \"x\", shape_train[0], \"RGB grid\")"
   ]
  },
  {
   "cell_type": "code",
   "execution_count": 10,
   "metadata": {
    "collapsed": false
   },
   "outputs": [
    {
     "data": {
      "text/plain": [
       "<tf.Tensor 'one_hot_1:0' shape=(5, 5) dtype=float32>"
      ]
     },
     "execution_count": 10,
     "metadata": {},
     "output_type": "execute_result"
    }
   ],
   "source": [
    "out=tf.one_hot(\n",
    "indices=[0,1,2,3,4],\n",
    "depth=5)\n",
    "out"
   ]
  },
  {
   "cell_type": "code",
   "execution_count": 19,
   "metadata": {
    "collapsed": false
   },
   "outputs": [],
   "source": [
    "    xtrain = []\n",
    "    trainLen = train_data.shape[3]\n",
    "    for x in range(trainLen):\n",
    "        xtrain.append(train_data[:,:,:,x])\n",
    "    "
   ]
  },
  {
   "cell_type": "code",
   "execution_count": 20,
   "metadata": {
    "collapsed": true
   },
   "outputs": [],
   "source": [
    "xtrain = np.asarray(xtrain)"
   ]
  },
  {
   "cell_type": "code",
   "execution_count": 21,
   "metadata": {
    "collapsed": false
   },
   "outputs": [
    {
     "data": {
      "text/plain": [
       "(73257, 32, 32, 3)"
      ]
     },
     "execution_count": 21,
     "metadata": {},
     "output_type": "execute_result"
    }
   ],
   "source": [
    "xtrain.shape"
   ]
  },
  {
   "cell_type": "code",
   "execution_count": 30,
   "metadata": {
    "collapsed": false
   },
   "outputs": [
    {
     "data": {
      "text/plain": [
       "<tf.Tensor 'one_hot_7:0' shape=(73257, 10, 10) dtype=float32>"
      ]
     },
     "execution_count": 30,
     "metadata": {},
     "output_type": "execute_result"
    }
   ],
   "source": [
    "out=tf.one_hot(\n",
    "indices=train_labels,\n",
    "depth=10)\n",
    "out\n"
   ]
  },
  {
   "cell_type": "code",
   "execution_count": 25,
   "metadata": {
    "collapsed": false
   },
   "outputs": [],
   "source": [
    "def reformat(data, Y):\n",
    "    xtrain = []\n",
    "    trainLen = data.shape[3]\n",
    "    for x in range(trainLen):\n",
    "        xtrain.append(data[:,:,:,x])\n",
    "    xtrain = np.asarray(xtrain)\n",
    "    Ytr=[]\n",
    "    for el in Y:\n",
    "        temp=np.zeros(10)\n",
    "        if el==10:\n",
    "            temp[0]=1\n",
    "        elif el==1:\n",
    "            temp[1]=1\n",
    "        elif el==2:\n",
    "            temp[2]=1\n",
    "        elif el==3:\n",
    "            temp[3]=1\n",
    "        elif el==4:\n",
    "            temp[4]=1\n",
    "        elif el==5:\n",
    "            temp[5]=1\n",
    "        elif el==6:\n",
    "            temp[6]=1\n",
    "        elif el==7:\n",
    "            temp[7]=1\n",
    "        elif el==8:\n",
    "            temp[8]=1\n",
    "        elif el==9:\n",
    "            temp[9]=1\n",
    "        Ytr.append(temp)\n",
    "    return xtrain, np.asarray(Ytr)\n",
    "\n",
    "train_data, train_labels = reformat(train_data, train_labels)\n",
    "test_data, test_labels = reformat(test_data, test_labels)"
   ]
  },
  {
   "cell_type": "code",
   "execution_count": 26,
   "metadata": {
    "collapsed": false
   },
   "outputs": [
    {
     "data": {
      "text/plain": [
       "(73257, 10)"
      ]
     },
     "execution_count": 26,
     "metadata": {},
     "output_type": "execute_result"
    }
   ],
   "source": [
    "train_labels.shape"
   ]
  },
  {
   "cell_type": "code",
   "execution_count": 41,
   "metadata": {
    "collapsed": false
   },
   "outputs": [
    {
     "name": "stdout",
     "output_type": "stream",
     "text": [
      "Initialized\n"
     ]
    },
    {
     "ename": "AttributeError",
     "evalue": "'numpy.ndarray' object has no attribute 'next_batch'",
     "output_type": "error",
     "traceback": [
      "\u001b[0;31m---------------------------------------------------------------------------\u001b[0m",
      "\u001b[0;31mAttributeError\u001b[0m                            Traceback (most recent call last)",
      "\u001b[0;32m<ipython-input-41-b26f058e16a9>\u001b[0m in \u001b[0;36m<module>\u001b[0;34m()\u001b[0m\n\u001b[1;32m      3\u001b[0m \u001b[0maverage\u001b[0m \u001b[1;33m=\u001b[0m \u001b[1;36m0\u001b[0m\u001b[1;33m\u001b[0m\u001b[0m\n\u001b[1;32m      4\u001b[0m \u001b[1;32mfor\u001b[0m \u001b[0mi\u001b[0m \u001b[1;32min\u001b[0m \u001b[0mrange\u001b[0m\u001b[1;33m(\u001b[0m\u001b[1;36m10000\u001b[0m\u001b[1;33m)\u001b[0m\u001b[1;33m:\u001b[0m\u001b[1;33m\u001b[0m\u001b[0m\n\u001b[0;32m----> 5\u001b[0;31m     \u001b[0mbatch\u001b[0m \u001b[1;33m=\u001b[0m \u001b[0mtrain_data\u001b[0m\u001b[1;33m.\u001b[0m\u001b[0mnext_batch\u001b[0m\u001b[1;33m(\u001b[0m\u001b[1;36m50\u001b[0m\u001b[1;33m)\u001b[0m\u001b[1;33m\u001b[0m\u001b[0m\n\u001b[0m\u001b[1;32m      6\u001b[0m     train_accuracy = accuracy.eval(feed_dict={\n\u001b[1;32m      7\u001b[0m         tf_train_dataset:batch[0], tf_train_labels: batch[1], keep_prob: 1.0})\n",
      "\u001b[0;31mAttributeError\u001b[0m: 'numpy.ndarray' object has no attribute 'next_batch'"
     ]
    }
   ],
   "source": [
    "sess.run(tf.global_variables_initializer())\n",
    "print('Initialized')\n",
    "average = 0\n",
    "for i in range(10000):\n",
    "    batch = train_data.next_batch(50)\n",
    "    train_accuracy = accuracy_train.eval(feed_dict={\n",
    "        tf_train_dataset:batch[0], tf_train_labels: batch[1], keep_prob: 1.0})\n",
    "    if (i % 50 == 0):\n",
    "\n",
    "        print(\"step %d, training accuracy %.4f\"%(i, train_accuracy))\n",
    "    average += train_accuracy\n",
    "    optimizer.run(feed_dict={tf_train_dataset: batch[0], tf_train_labels: batch[1], keep_prob: 0.5})\n",
    "    average += accu\n",
    "   "
   ]
  },
  {
   "cell_type": "code",
   "execution_count": 58,
   "metadata": {
    "collapsed": false
   },
   "outputs": [
    {
     "name": "stdout",
     "output_type": "stream",
     "text": [
      "Initialized\n"
     ]
    },
    {
     "ename": "NameError",
     "evalue": "name 'keep_prob' is not defined",
     "output_type": "error",
     "traceback": [
      "\u001b[0;31m---------------------------------------------------------------------------\u001b[0m",
      "\u001b[0;31mNameError\u001b[0m                                 Traceback (most recent call last)",
      "\u001b[0;32m<ipython-input-58-c79cb16efd1c>\u001b[0m in \u001b[0;36m<module>\u001b[0;34m()\u001b[0m\n\u001b[1;32m     14\u001b[0m     \u001b[1;31m#   Dictionary to be fed to TensorFlow Session\u001b[0m\u001b[1;33m\u001b[0m\u001b[1;33m\u001b[0m\u001b[0m\n\u001b[1;32m     15\u001b[0m     train_accuracy = accuracy.eval(feed_dict={\n\u001b[0;32m---> 16\u001b[0;31m         tf_train_dataset:batch_data, tf_train_labels: batch_labels, keep_prob: 1.0})\n\u001b[0m\u001b[1;32m     17\u001b[0m \u001b[1;33m\u001b[0m\u001b[0m\n\u001b[1;32m     18\u001b[0m \u001b[1;33m\u001b[0m\u001b[0m\n",
      "\u001b[0;31mNameError\u001b[0m: name 'keep_prob' is not defined"
     ]
    }
   ],
   "source": [
    "\n",
    "\n",
    "#   Number of iterations\n",
    "num_steps = 10000\n",
    "\n",
    "sess.run(tf.global_variables_initializer())\n",
    "print('Initialized')\n",
    "average = 0\n",
    "for step in range(num_steps):\n",
    "    #   Constucting the batch from the data set\n",
    "    offset = (step * batch) % (73257 - batch)\n",
    "    batch_data = train_data[offset:(offset + batch), :, :, :]\n",
    "    batch_labels = train_labels[offset:(offset + batch), :]\n",
    "    #   Dictionary to be fed to TensorFlow Session\n",
    "    train_accuracy = accuracy.eval(feed_dict={\n",
    "        tf_train_dataset:batch_data, tf_train_labels: batch_labels, keep_prob: 1.0})\n",
    "\n",
    "\n",
    "    if (step % 50 == 0):\n",
    "        print('Minibatch loss at step %d: %f' % (step, l))\n",
    "        print('Minibatch accuracy: %.1f%%' % accu)\n",
    "    average += train_accuracy\n",
    "    optimizer.run(feed_dict={tf_train_dataset:batch_data, tf_train_labels: batch_labels, keep_prob: 0.5})"
   ]
  },
  {
   "cell_type": "code",
   "execution_count": 83,
   "metadata": {
    "collapsed": false
   },
   "outputs": [
    {
     "name": "stdout",
     "output_type": "stream",
     "text": [
      "Initialized\n",
      "Minibatch accuracy: 0.0%\n"
     ]
    },
    {
     "ename": "AttributeError",
     "evalue": "'numpy.ndarray' object has no attribute 'eval'",
     "output_type": "error",
     "traceback": [
      "\u001b[0;31m---------------------------------------------------------------------------\u001b[0m",
      "\u001b[0;31mAttributeError\u001b[0m                            Traceback (most recent call last)",
      "\u001b[0;32m<ipython-input-83-0440f2e95e33>\u001b[0m in \u001b[0;36m<module>\u001b[0;34m()\u001b[0m\n\u001b[1;32m     13\u001b[0m     \u001b[0moffset\u001b[0m \u001b[1;33m=\u001b[0m \u001b[1;33m(\u001b[0m\u001b[0mstep\u001b[0m \u001b[1;33m*\u001b[0m \u001b[0mbatch\u001b[0m\u001b[1;33m)\u001b[0m \u001b[1;33m%\u001b[0m \u001b[1;33m(\u001b[0m\u001b[1;36m73257\u001b[0m \u001b[1;33m-\u001b[0m \u001b[0mbatch\u001b[0m\u001b[1;33m)\u001b[0m\u001b[1;33m\u001b[0m\u001b[0m\n\u001b[1;32m     14\u001b[0m     \u001b[1;31m#train_labels = np.asarray( train_labels)\u001b[0m\u001b[1;33m\u001b[0m\u001b[1;33m\u001b[0m\u001b[0m\n\u001b[0;32m---> 15\u001b[0;31m     \u001b[0mtrain_labels\u001b[0m\u001b[1;33m=\u001b[0m\u001b[0mtrain_labels\u001b[0m\u001b[1;33m.\u001b[0m\u001b[0meval\u001b[0m\u001b[1;33m(\u001b[0m\u001b[1;33m)\u001b[0m\u001b[1;33m.\u001b[0m\u001b[0mreshape\u001b[0m\u001b[1;33m(\u001b[0m\u001b[1;36m73257\u001b[0m\u001b[1;33m,\u001b[0m\u001b[1;36m10\u001b[0m\u001b[1;33m)\u001b[0m\u001b[1;33m\u001b[0m\u001b[0m\n\u001b[0m\u001b[1;32m     16\u001b[0m     \u001b[0mbatch_data\u001b[0m \u001b[1;33m=\u001b[0m \u001b[0mtrain_data\u001b[0m\u001b[1;33m[\u001b[0m\u001b[0moffset\u001b[0m\u001b[1;33m:\u001b[0m\u001b[1;33m(\u001b[0m\u001b[0moffset\u001b[0m \u001b[1;33m+\u001b[0m \u001b[0mbatch\u001b[0m\u001b[1;33m)\u001b[0m\u001b[1;33m,\u001b[0m \u001b[1;33m:\u001b[0m\u001b[1;33m,\u001b[0m \u001b[1;33m:\u001b[0m\u001b[1;33m,\u001b[0m \u001b[1;33m:\u001b[0m\u001b[1;33m]\u001b[0m\u001b[1;33m\u001b[0m\u001b[0m\n\u001b[1;32m     17\u001b[0m     \u001b[0mbatch_labels\u001b[0m \u001b[1;33m=\u001b[0m \u001b[0mtrain_labels\u001b[0m\u001b[1;33m[\u001b[0m\u001b[0moffset\u001b[0m\u001b[1;33m:\u001b[0m\u001b[1;33m(\u001b[0m\u001b[0moffset\u001b[0m \u001b[1;33m+\u001b[0m \u001b[0mbatch\u001b[0m\u001b[1;33m)\u001b[0m\u001b[1;33m,\u001b[0m\u001b[1;33m:\u001b[0m\u001b[1;33m]\u001b[0m\u001b[1;33m\u001b[0m\u001b[0m\n",
      "\u001b[0;31mAttributeError\u001b[0m: 'numpy.ndarray' object has no attribute 'eval'"
     ]
    }
   ],
   "source": [
    "def accuracy(predictions, labels):\n",
    "    return (100.0 * np.sum(np.argmax(predictions, 1) == np.argmax(labels, 1))\n",
    "          / predictions.shape[0])\n",
    "\n",
    "#   Number of iterations\n",
    "num_steps = 10000\n",
    "\n",
    "sess.run(tf.global_variables_initializer())\n",
    "print('Initialized')\n",
    "average = 0\n",
    "for step in range(num_steps):\n",
    "    #   Constucting the batch from the data set\n",
    "    offset = (step * batch) % (73257 - batch)\n",
    "    #train_labels = np.asarray( train_labels)\n",
    "    train_labels=train_labels.eval().reshape(73257,10)\n",
    "    batch_data = train_data[offset:(offset + batch), :, :, :]\n",
    "    batch_labels = train_labels[offset:(offset + batch),:]\n",
    "    #   Dictionary to be fed to TensorFlow Session\n",
    "    accu = accuracy_train.eval(feed_dict={\n",
    "        tf_train_dataset : batch_data, tf_train_labels : batch_labels, dropout: 0.93})\n",
    "    #   Calculating the Accuracy of the predictions\n",
    "    #accu = accuracy(predictions, batch_labels)\n",
    "    if (step % 50 == 0):\n",
    "        #print('Minibatch loss at step %d: %f' % (step, l))\n",
    "        print('Minibatch accuracy: %.1f%%' % accu)\n",
    "    average += accu"
   ]
  },
  {
   "cell_type": "code",
   "execution_count": 81,
   "metadata": {
    "collapsed": false
   },
   "outputs": [],
   "source": [
    "import numpy as np\n",
    "import matplotlib.pyplot as plt\n",
    "from collections import Counter\n",
    "from sklearn.linear_model import SGDClassifier\n",
    "sess=tf.InteractiveSession()\n",
    "tf.global_variables_initializer().run()\n",
    "\n",
    "#==================EXTRACTING AND ANALYSING DATA FROM .mat FILES===============\n",
    "\"\"\"\n",
    "X and Y Components of Training and Testing Data\n",
    "\"\"\"\n",
    "train_data = scipy.io.loadmat('train_32x32.mat')['X']\n",
    "train_labels = scipy.io.loadmat('train_32x32.mat')['y']\n",
    "test_data = scipy.io.loadmat('test_32x32.mat')['X']\n",
    "test_labels = scipy.io.loadmat('test_32x32.mat')['y']\n",
    "\n",
    "train_data = train_data.astype('float32') / 128.0 - 1\n",
    "test_data = test_data.astype('float32') / 128.0 - 1\n",
    "\n",
    "\n",
    "\"\"\"\n",
    "Converting Labels to One Hot Encoding and Image Matrix to favourable dimensions\n",
    "\"\"\"\n",
    "def reformat(data):\n",
    "    xtrain = []\n",
    "    trainLen = data.shape[3]\n",
    "    for x in range(trainLen):\n",
    "        xtrain.append(data[:,:,:,x])\n",
    "    xtrain = np.asarray(xtrain)\n",
    "    \n",
    "    return xtrain\n",
    "train_data = reformat(train_data)\n",
    "test_data = reformat(test_data)\n",
    "train_labels=tf.one_hot(indices=train_labels,depth=10)\n",
    "test_labels=tf.one_hot(indices=test_labels,depth=10)\n",
    "\n",
    "\n",
    "\n",
    "#============================================================================\n",
    "\n",
    "#==================BUILDING THE CNN==========================================\n",
    "\"\"\"\n",
    "Various Hyperparameters required for training the CNN.\n",
    "\"\"\"\n",
    "image_size = 32\n",
    "width = 32\n",
    "height = 32\n",
    "channels = 3\n",
    "\n",
    "n_labels = 10\n",
    "patch = 5\n",
    "depth = 16\n",
    "hidden = 128\n",
    "dropout = 0.9375\n",
    "\n",
    "batch = 16\n",
    "learning_rate = 0.001\n",
    "\n",
    "\"\"\"\n",
    "Constructing the placeholders and variables in the TensorFlow Graph\n",
    "\"\"\"\n",
    "#Training Dataset\n",
    "tf_train_dataset = tf.placeholder(tf.float32, shape=(None, width, height, channels))\n",
    "#Training Labels\n",
    "tf_train_labels = tf.placeholder(tf.float32, shape=(None, n_labels))\n",
    "#Testing Dataset\n",
    "tf_test_dataset = tf.constant(test_data)\n",
    "\n",
    "\n",
    "#   Layer 1: (5, 5, 3, 16)\n",
    "layer1_weights = tf.Variable(tf.truncated_normal([patch, patch, channels, depth], stddev=0.1))\n",
    "layer1_biases = tf.Variable(tf.constant(1.0, shape=[depth]))\n",
    "\n",
    "#   Layer 2: (5, 5, 16, 16)\n",
    "layer2_weights = tf.Variable(tf.truncated_normal([patch, patch, depth, depth], stddev=0.1))\n",
    "layer2_biases = tf.Variable(tf.constant(1.0, shape=[depth]))\n",
    "\n",
    "#   Layer 3: (1024, 128)\n",
    "layer3_weights = tf.Variable(tf.truncated_normal([image_size // 4 * image_size // 4 * depth, hidden], stddev=0.1))\n",
    "layer3_biases = tf.Variable(tf.constant(1.0, shape=[hidden]))\n",
    "\n",
    "#   Layer 4: (128, 10)\n",
    "layer4_weights = tf.Variable(tf.truncated_normal([hidden, n_labels], stddev=0.1))\n",
    "layer4_biases = tf.Variable(tf.constant(1.0, shape=[n_labels]))\n",
    "\n",
    "dropout = tf.placeholder(tf.float32)\n",
    "\n",
    "def model(data):\n",
    "    #   Convolution 1 and RELU\n",
    "    conv1 = tf.nn.conv2d(data, layer1_weights, [1, 1, 1, 1], padding='SAME')\n",
    "    hidden1 = tf.nn.relu(conv1 + layer1_biases)\n",
    "    #   Max Pool\n",
    "    hidden2 = tf.nn.max_pool(hidden1, ksize=[1, 2, 2, 1], strides=[1, 2, 2, 1], padding='SAME')\n",
    "    #   Convolution 2 and RELU\n",
    "    conv2 = tf.nn.conv2d(hidden2, layer2_weights, [1, 1, 1, 1], padding='SAME')\n",
    "    hidden3 = tf.nn.relu(conv2 + layer2_biases)\n",
    "    #   Max Pool\n",
    "    hidden4 = tf.nn.max_pool(hidden3, ksize=[1, 2, 2, 1], strides=[1, 2, 2, 1], padding='SAME')\n",
    "\n",
    "    shape = hidden4.get_shape().as_list()\n",
    "\n",
    "    reshape = tf.reshape(hidden4, [-1, shape[1] * shape[2] * shape[3]])\n",
    "    hidden5 = tf.nn.relu(tf.matmul(reshape, layer3_weights) + layer3_biases)\n",
    "    #   Dropout\n",
    "    dropout_layer = tf.nn.dropout(hidden5, 0.93)\n",
    "    \n",
    "    return tf.matmul(dropout_layer, layer4_weights) + layer4_biases\n",
    "\n",
    "logits = model(tf_train_dataset)\n",
    "loss = tf.reduce_mean(tf.nn.softmax_cross_entropy_with_logits(logits, tf_train_labels))\n",
    "optimizer = tf.train.AdamOptimizer(0.001).minimize(loss)\n",
    "\n"
   ]
  },
  {
   "cell_type": "code",
   "execution_count": 82,
   "metadata": {
    "collapsed": false
   },
   "outputs": [],
   "source": [
    "\n",
    "train_prediction = tf.nn.softmax(logits)\n",
    "test_prediction = tf.nn.softmax(model(tf_test_dataset))\n",
    "correct_prediction_train = tf.equal(tf.argmax(train_prediction,1), tf.argmax(tf_train_labels,1))\n",
    "accuracy_train = tf.reduce_mean(tf.cast(correct_prediction_train, tf.float32))\n",
    "#correct_prediction_test = tf.equal(tf.argmax(test_prediction,1), tf.argmax(tf_test_labels,1))\n",
    "#accuracy_test = tf.reduce_mean(tf.cast(correct_prediction_test, tf.float32))\n",
    "#tf_test_labels=tf.constant(test_labels)\n",
    "\n"
   ]
  },
  {
   "cell_type": "code",
   "execution_count": 84,
   "metadata": {
    "collapsed": false
   },
   "outputs": [
    {
     "data": {
      "text/plain": [
       "<tf.Tensor 'Mean_7:0' shape=() dtype=float32>"
      ]
     },
     "execution_count": 84,
     "metadata": {},
     "output_type": "execute_result"
    }
   ],
   "source": [
    "accuracy_train"
   ]
  },
  {
   "cell_type": "code",
   "execution_count": 85,
   "metadata": {
    "collapsed": false
   },
   "outputs": [
    {
     "name": "stdout",
     "output_type": "stream",
     "text": [
      "Initialized\n",
      "Minibatch loss at step 0: 6.187049\n",
      "Minibatch accuracy: 6.2%\n",
      "Minibatch loss at step 50: 2.253537\n",
      "Minibatch accuracy: 12.5%\n",
      "Minibatch loss at step 100: 2.319354\n",
      "Minibatch accuracy: 18.8%\n",
      "Minibatch loss at step 150: 2.314340\n",
      "Minibatch accuracy: 12.5%\n",
      "Minibatch loss at step 200: 2.305859\n",
      "Minibatch accuracy: 12.5%\n",
      "Minibatch loss at step 250: 2.716376\n",
      "Minibatch accuracy: 18.8%\n",
      "Minibatch loss at step 300: 3.347036\n",
      "Minibatch accuracy: 18.8%\n",
      "Minibatch loss at step 350: 5.162056\n",
      "Minibatch accuracy: 18.8%\n",
      "Minibatch loss at step 400: 71.321732\n",
      "Minibatch accuracy: 12.5%\n",
      "Minibatch loss at step 450: 330.279480\n",
      "Minibatch accuracy: 0.0%\n",
      "Minibatch loss at step 500: 851.165527\n",
      "Minibatch accuracy: 6.2%\n",
      "Minibatch loss at step 550: 719.447510\n",
      "Minibatch accuracy: 6.2%\n",
      "Minibatch loss at step 600: 4496.596680\n",
      "Minibatch accuracy: 6.2%\n",
      "Minibatch loss at step 650: 3597.019531\n",
      "Minibatch accuracy: 25.0%\n",
      "Minibatch loss at step 700: 17144.402344\n",
      "Minibatch accuracy: 12.5%\n",
      "Minibatch loss at step 750: 12098.345703\n",
      "Minibatch accuracy: 12.5%\n",
      "Minibatch loss at step 800: 31085.726562\n",
      "Minibatch accuracy: 12.5%\n",
      "Minibatch loss at step 850: 18998.871094\n",
      "Minibatch accuracy: 18.8%\n",
      "Minibatch loss at step 900: 43771.988281\n",
      "Minibatch accuracy: 0.0%\n",
      "Minibatch loss at step 950: 85497.414062\n",
      "Minibatch accuracy: 25.0%\n",
      "Minibatch loss at step 1000: 73887.546875\n",
      "Minibatch accuracy: 12.5%\n",
      "Minibatch loss at step 1050: 35327.566406\n",
      "Minibatch accuracy: 12.5%\n",
      "Minibatch loss at step 1100: 120079.500000\n",
      "Minibatch accuracy: 12.5%\n",
      "Minibatch loss at step 1150: 140626.750000\n",
      "Minibatch accuracy: 31.2%\n",
      "Minibatch loss at step 1200: 256517.890625\n",
      "Minibatch accuracy: 0.0%\n",
      "Minibatch loss at step 1250: 113152.398438\n",
      "Minibatch accuracy: 18.8%\n",
      "Minibatch loss at step 1300: 173161.062500\n",
      "Minibatch accuracy: 12.5%\n",
      "Minibatch loss at step 1350: 33398.187500\n",
      "Minibatch accuracy: 43.8%\n",
      "Minibatch loss at step 1400: 322674.875000\n",
      "Minibatch accuracy: 0.0%\n",
      "Minibatch loss at step 1450: 219120.062500\n",
      "Minibatch accuracy: 12.5%\n",
      "Minibatch loss at step 1500: 435414.031250\n",
      "Minibatch accuracy: 12.5%\n",
      "Minibatch loss at step 1550: 366005.375000\n",
      "Minibatch accuracy: 25.0%\n",
      "Minibatch loss at step 1600: 861446.125000\n",
      "Minibatch accuracy: 6.2%\n",
      "Minibatch loss at step 1650: 494520.406250\n",
      "Minibatch accuracy: 0.0%\n",
      "Minibatch loss at step 1700: 1783255.750000\n",
      "Minibatch accuracy: 12.5%\n",
      "Minibatch loss at step 1750: 1482332.750000\n",
      "Minibatch accuracy: 6.2%\n",
      "Minibatch loss at step 1800: 605769.750000\n",
      "Minibatch accuracy: 0.0%\n",
      "Minibatch loss at step 1850: 506764.000000\n",
      "Minibatch accuracy: 12.5%\n",
      "Minibatch loss at step 1900: 683036.250000\n",
      "Minibatch accuracy: 6.2%\n",
      "Minibatch loss at step 1950: 798176.687500\n",
      "Minibatch accuracy: 0.0%\n",
      "Minibatch loss at step 2000: 381437.781250\n",
      "Minibatch accuracy: 18.8%\n",
      "Minibatch loss at step 2050: 767765.750000\n",
      "Minibatch accuracy: 0.0%\n",
      "Minibatch loss at step 2100: 1801185.250000\n",
      "Minibatch accuracy: 18.8%\n",
      "Minibatch loss at step 2150: 2385778.250000\n",
      "Minibatch accuracy: 12.5%\n",
      "Minibatch loss at step 2200: 1044639.000000\n",
      "Minibatch accuracy: 12.5%\n",
      "Minibatch loss at step 2250: 480486.312500\n",
      "Minibatch accuracy: 6.2%\n",
      "Minibatch loss at step 2300: 1479469.000000\n",
      "Minibatch accuracy: 0.0%\n",
      "Minibatch loss at step 2350: 1062968.750000\n",
      "Minibatch accuracy: 25.0%\n",
      "Minibatch loss at step 2400: 2816937.000000\n",
      "Minibatch accuracy: 6.2%\n",
      "Minibatch loss at step 2450: 1602615.125000\n",
      "Minibatch accuracy: 12.5%\n",
      "Minibatch loss at step 2500: 1461341.375000\n",
      "Minibatch accuracy: 6.2%\n",
      "Minibatch loss at step 2550: 3494316.000000\n",
      "Minibatch accuracy: 12.5%\n",
      "Minibatch loss at step 2600: 3895420.000000\n",
      "Minibatch accuracy: 6.2%\n",
      "Minibatch loss at step 2650: 3621981.750000\n",
      "Minibatch accuracy: 0.0%\n",
      "Minibatch loss at step 2700: 1672179.000000\n",
      "Minibatch accuracy: 0.0%\n",
      "Minibatch loss at step 2750: 2980620.000000\n",
      "Minibatch accuracy: 6.2%\n",
      "Minibatch loss at step 2800: 1221011.750000\n",
      "Minibatch accuracy: 12.5%\n",
      "Minibatch loss at step 2850: 3854899.500000\n",
      "Minibatch accuracy: 12.5%\n",
      "Minibatch loss at step 2900: 3235282.250000\n",
      "Minibatch accuracy: 25.0%\n",
      "Minibatch loss at step 2950: 3610494.750000\n",
      "Minibatch accuracy: 6.2%\n",
      "Minibatch loss at step 3000: 2911956.000000\n",
      "Minibatch accuracy: 12.5%\n",
      "Minibatch loss at step 3050: 3599281.250000\n",
      "Minibatch accuracy: 6.2%\n",
      "Minibatch loss at step 3100: 1285346.000000\n",
      "Minibatch accuracy: 12.5%\n",
      "Minibatch loss at step 3150: 1357853.000000\n",
      "Minibatch accuracy: 0.0%\n",
      "Minibatch loss at step 3200: 3650906.500000\n",
      "Minibatch accuracy: 25.0%\n"
     ]
    },
    {
     "ename": "KeyboardInterrupt",
     "evalue": "",
     "output_type": "error",
     "traceback": [
      "\u001b[0;31m---------------------------------------------------------------------------\u001b[0m",
      "\u001b[0;31mKeyboardInterrupt\u001b[0m                         Traceback (most recent call last)",
      "\u001b[0;32m<ipython-input-85-8b096daf128f>\u001b[0m in \u001b[0;36m<module>\u001b[0;34m()\u001b[0m\n\u001b[1;32m     16\u001b[0m     \u001b[1;31m#   Dictionary to be fed to TensorFlow Session\u001b[0m\u001b[1;33m\u001b[0m\u001b[1;33m\u001b[0m\u001b[0m\n\u001b[1;32m     17\u001b[0m     \u001b[0mfeed_dict\u001b[0m \u001b[1;33m=\u001b[0m \u001b[1;33m{\u001b[0m\u001b[0mtf_train_dataset\u001b[0m \u001b[1;33m:\u001b[0m \u001b[0mbatch_data\u001b[0m\u001b[1;33m,\u001b[0m \u001b[0mtf_train_labels\u001b[0m \u001b[1;33m:\u001b[0m \u001b[0mbatch_labels\u001b[0m\u001b[1;33m,\u001b[0m \u001b[0mdropout\u001b[0m\u001b[1;33m:\u001b[0m \u001b[1;36m0.93\u001b[0m\u001b[1;33m}\u001b[0m\u001b[1;33m\u001b[0m\u001b[0m\n\u001b[0;32m---> 18\u001b[0;31m     \u001b[0m_\u001b[0m\u001b[1;33m,\u001b[0m \u001b[0ml\u001b[0m\u001b[1;33m,\u001b[0m \u001b[0mpredictions\u001b[0m \u001b[1;33m=\u001b[0m \u001b[0msess\u001b[0m\u001b[1;33m.\u001b[0m\u001b[0mrun\u001b[0m\u001b[1;33m(\u001b[0m\u001b[1;33m[\u001b[0m\u001b[0moptimizer\u001b[0m\u001b[1;33m,\u001b[0m \u001b[0mloss\u001b[0m\u001b[1;33m,\u001b[0m \u001b[0mtrain_prediction\u001b[0m\u001b[1;33m]\u001b[0m\u001b[1;33m,\u001b[0m \u001b[0mfeed_dict\u001b[0m\u001b[1;33m=\u001b[0m\u001b[0mfeed_dict\u001b[0m\u001b[1;33m)\u001b[0m\u001b[1;33m\u001b[0m\u001b[0m\n\u001b[0m\u001b[1;32m     19\u001b[0m     \u001b[1;31m#   Calculating the Accuracy of the predictions\u001b[0m\u001b[1;33m\u001b[0m\u001b[1;33m\u001b[0m\u001b[0m\n\u001b[1;32m     20\u001b[0m     \u001b[0maccu\u001b[0m \u001b[1;33m=\u001b[0m \u001b[0maccuracy\u001b[0m\u001b[1;33m(\u001b[0m\u001b[0mpredictions\u001b[0m\u001b[1;33m,\u001b[0m \u001b[0mbatch_labels\u001b[0m\u001b[1;33m)\u001b[0m\u001b[1;33m\u001b[0m\u001b[0m\n",
      "\u001b[0;32mC:\\Users\\fzhan\\AppData\\Local\\Continuum\\Anaconda3\\lib\\site-packages\\tensorflow\\python\\client\\session.py\u001b[0m in \u001b[0;36mrun\u001b[0;34m(self, fetches, feed_dict, options, run_metadata)\u001b[0m\n\u001b[1;32m    764\u001b[0m     \u001b[1;32mtry\u001b[0m\u001b[1;33m:\u001b[0m\u001b[1;33m\u001b[0m\u001b[0m\n\u001b[1;32m    765\u001b[0m       result = self._run(None, fetches, feed_dict, options_ptr,\n\u001b[0;32m--> 766\u001b[0;31m                          run_metadata_ptr)\n\u001b[0m\u001b[1;32m    767\u001b[0m       \u001b[1;32mif\u001b[0m \u001b[0mrun_metadata\u001b[0m\u001b[1;33m:\u001b[0m\u001b[1;33m\u001b[0m\u001b[0m\n\u001b[1;32m    768\u001b[0m         \u001b[0mproto_data\u001b[0m \u001b[1;33m=\u001b[0m \u001b[0mtf_session\u001b[0m\u001b[1;33m.\u001b[0m\u001b[0mTF_GetBuffer\u001b[0m\u001b[1;33m(\u001b[0m\u001b[0mrun_metadata_ptr\u001b[0m\u001b[1;33m)\u001b[0m\u001b[1;33m\u001b[0m\u001b[0m\n",
      "\u001b[0;32mC:\\Users\\fzhan\\AppData\\Local\\Continuum\\Anaconda3\\lib\\site-packages\\tensorflow\\python\\client\\session.py\u001b[0m in \u001b[0;36m_run\u001b[0;34m(self, handle, fetches, feed_dict, options, run_metadata)\u001b[0m\n\u001b[1;32m    962\u001b[0m     \u001b[1;32mif\u001b[0m \u001b[0mfinal_fetches\u001b[0m \u001b[1;32mor\u001b[0m \u001b[0mfinal_targets\u001b[0m\u001b[1;33m:\u001b[0m\u001b[1;33m\u001b[0m\u001b[0m\n\u001b[1;32m    963\u001b[0m       results = self._do_run(handle, final_targets, final_fetches,\n\u001b[0;32m--> 964\u001b[0;31m                              feed_dict_string, options, run_metadata)\n\u001b[0m\u001b[1;32m    965\u001b[0m     \u001b[1;32melse\u001b[0m\u001b[1;33m:\u001b[0m\u001b[1;33m\u001b[0m\u001b[0m\n\u001b[1;32m    966\u001b[0m       \u001b[0mresults\u001b[0m \u001b[1;33m=\u001b[0m \u001b[1;33m[\u001b[0m\u001b[1;33m]\u001b[0m\u001b[1;33m\u001b[0m\u001b[0m\n",
      "\u001b[0;32mC:\\Users\\fzhan\\AppData\\Local\\Continuum\\Anaconda3\\lib\\site-packages\\tensorflow\\python\\client\\session.py\u001b[0m in \u001b[0;36m_do_run\u001b[0;34m(self, handle, target_list, fetch_list, feed_dict, options, run_metadata)\u001b[0m\n\u001b[1;32m   1012\u001b[0m     \u001b[1;32mif\u001b[0m \u001b[0mhandle\u001b[0m \u001b[1;32mis\u001b[0m \u001b[1;32mNone\u001b[0m\u001b[1;33m:\u001b[0m\u001b[1;33m\u001b[0m\u001b[0m\n\u001b[1;32m   1013\u001b[0m       return self._do_call(_run_fn, self._session, feed_dict, fetch_list,\n\u001b[0;32m-> 1014\u001b[0;31m                            target_list, options, run_metadata)\n\u001b[0m\u001b[1;32m   1015\u001b[0m     \u001b[1;32melse\u001b[0m\u001b[1;33m:\u001b[0m\u001b[1;33m\u001b[0m\u001b[0m\n\u001b[1;32m   1016\u001b[0m       return self._do_call(_prun_fn, self._session, handle, feed_dict,\n",
      "\u001b[0;32mC:\\Users\\fzhan\\AppData\\Local\\Continuum\\Anaconda3\\lib\\site-packages\\tensorflow\\python\\client\\session.py\u001b[0m in \u001b[0;36m_do_call\u001b[0;34m(self, fn, *args)\u001b[0m\n\u001b[1;32m   1019\u001b[0m   \u001b[1;32mdef\u001b[0m \u001b[0m_do_call\u001b[0m\u001b[1;33m(\u001b[0m\u001b[0mself\u001b[0m\u001b[1;33m,\u001b[0m \u001b[0mfn\u001b[0m\u001b[1;33m,\u001b[0m \u001b[1;33m*\u001b[0m\u001b[0margs\u001b[0m\u001b[1;33m)\u001b[0m\u001b[1;33m:\u001b[0m\u001b[1;33m\u001b[0m\u001b[0m\n\u001b[1;32m   1020\u001b[0m     \u001b[1;32mtry\u001b[0m\u001b[1;33m:\u001b[0m\u001b[1;33m\u001b[0m\u001b[0m\n\u001b[0;32m-> 1021\u001b[0;31m       \u001b[1;32mreturn\u001b[0m \u001b[0mfn\u001b[0m\u001b[1;33m(\u001b[0m\u001b[1;33m*\u001b[0m\u001b[0margs\u001b[0m\u001b[1;33m)\u001b[0m\u001b[1;33m\u001b[0m\u001b[0m\n\u001b[0m\u001b[1;32m   1022\u001b[0m     \u001b[1;32mexcept\u001b[0m \u001b[0merrors\u001b[0m\u001b[1;33m.\u001b[0m\u001b[0mOpError\u001b[0m \u001b[1;32mas\u001b[0m \u001b[0me\u001b[0m\u001b[1;33m:\u001b[0m\u001b[1;33m\u001b[0m\u001b[0m\n\u001b[1;32m   1023\u001b[0m       \u001b[0mmessage\u001b[0m \u001b[1;33m=\u001b[0m \u001b[0mcompat\u001b[0m\u001b[1;33m.\u001b[0m\u001b[0mas_text\u001b[0m\u001b[1;33m(\u001b[0m\u001b[0me\u001b[0m\u001b[1;33m.\u001b[0m\u001b[0mmessage\u001b[0m\u001b[1;33m)\u001b[0m\u001b[1;33m\u001b[0m\u001b[0m\n",
      "\u001b[0;32mC:\\Users\\fzhan\\AppData\\Local\\Continuum\\Anaconda3\\lib\\site-packages\\tensorflow\\python\\client\\session.py\u001b[0m in \u001b[0;36m_run_fn\u001b[0;34m(session, feed_dict, fetch_list, target_list, options, run_metadata)\u001b[0m\n\u001b[1;32m   1001\u001b[0m         return tf_session.TF_Run(session, options,\n\u001b[1;32m   1002\u001b[0m                                  \u001b[0mfeed_dict\u001b[0m\u001b[1;33m,\u001b[0m \u001b[0mfetch_list\u001b[0m\u001b[1;33m,\u001b[0m \u001b[0mtarget_list\u001b[0m\u001b[1;33m,\u001b[0m\u001b[1;33m\u001b[0m\u001b[0m\n\u001b[0;32m-> 1003\u001b[0;31m                                  status, run_metadata)\n\u001b[0m\u001b[1;32m   1004\u001b[0m \u001b[1;33m\u001b[0m\u001b[0m\n\u001b[1;32m   1005\u001b[0m     \u001b[1;32mdef\u001b[0m \u001b[0m_prun_fn\u001b[0m\u001b[1;33m(\u001b[0m\u001b[0msession\u001b[0m\u001b[1;33m,\u001b[0m \u001b[0mhandle\u001b[0m\u001b[1;33m,\u001b[0m \u001b[0mfeed_dict\u001b[0m\u001b[1;33m,\u001b[0m \u001b[0mfetch_list\u001b[0m\u001b[1;33m)\u001b[0m\u001b[1;33m:\u001b[0m\u001b[1;33m\u001b[0m\u001b[0m\n",
      "\u001b[0;31mKeyboardInterrupt\u001b[0m: "
     ]
    }
   ],
   "source": [
    "def accuracy(predictions, labels):\n",
    "    return (100.0 * np.sum(np.argmax(predictions, 1) == np.argmax(labels, 1))\n",
    "          / predictions.shape[0])\n",
    "\n",
    "#   Number of iterations\n",
    "num_steps = 10000\n",
    "\n",
    "sess.run(tf.global_variables_initializer())\n",
    "print('Initialized')\n",
    "average = 0\n",
    "for step in range(num_steps):\n",
    "    #   Constucting the batch from the data set\n",
    "    offset = (step * batch) % (73257 - batch)\n",
    "    batch_data = train_data[offset:(offset + batch), :, :, :]\n",
    "    batch_labels = train_labels[offset:(offset + batch), :]\n",
    "    #   Dictionary to be fed to TensorFlow Session\n",
    "    feed_dict = {tf_train_dataset : batch_data, tf_train_labels : batch_labels, dropout: 0.93}\n",
    "    _, l, predictions = sess.run([optimizer, loss, train_prediction], feed_dict=feed_dict)\n",
    "    #   Calculating the Accuracy of the predictions\n",
    "    accu = accuracy(predictions, batch_labels)\n",
    "    if (step % 50 == 0):\n",
    "        print('Minibatch loss at step %d: %f' % (step, l))\n",
    "        print('Minibatch accuracy: %.1f%%' % accu)\n",
    "    average += accu"
   ]
  },
  {
   "cell_type": "code",
   "execution_count": 87,
   "metadata": {
    "collapsed": false
   },
   "outputs": [
    {
     "ename": "ValueError",
     "evalue": "GraphDef cannot be larger than 2GB.",
     "output_type": "error",
     "traceback": [
      "\u001b[0;31m---------------------------------------------------------------------------\u001b[0m",
      "\u001b[0;31mValueError\u001b[0m                                Traceback (most recent call last)",
      "\u001b[0;32m<ipython-input-87-1a0790d0039b>\u001b[0m in \u001b[0;36m<module>\u001b[0;34m()\u001b[0m\n\u001b[1;32m      6\u001b[0m \u001b[1;32mfrom\u001b[0m \u001b[0msklearn\u001b[0m\u001b[1;33m.\u001b[0m\u001b[0mlinear_model\u001b[0m \u001b[1;32mimport\u001b[0m \u001b[0mSGDClassifier\u001b[0m\u001b[1;33m\u001b[0m\u001b[0m\n\u001b[1;32m      7\u001b[0m \u001b[0msess\u001b[0m\u001b[1;33m=\u001b[0m\u001b[0mtf\u001b[0m\u001b[1;33m.\u001b[0m\u001b[0mInteractiveSession\u001b[0m\u001b[1;33m(\u001b[0m\u001b[1;33m)\u001b[0m\u001b[1;33m\u001b[0m\u001b[0m\n\u001b[0;32m----> 8\u001b[0;31m \u001b[0mtf\u001b[0m\u001b[1;33m.\u001b[0m\u001b[0mglobal_variables_initializer\u001b[0m\u001b[1;33m(\u001b[0m\u001b[1;33m)\u001b[0m\u001b[1;33m.\u001b[0m\u001b[0mrun\u001b[0m\u001b[1;33m(\u001b[0m\u001b[1;33m)\u001b[0m\u001b[1;33m\u001b[0m\u001b[0m\n\u001b[0m\u001b[1;32m      9\u001b[0m \u001b[1;33m\u001b[0m\u001b[0m\n\u001b[1;32m     10\u001b[0m \u001b[1;31m#==================EXTRACTING AND ANALYSING DATA FROM .mat FILES===============\u001b[0m\u001b[1;33m\u001b[0m\u001b[1;33m\u001b[0m\u001b[0m\n",
      "\u001b[0;32mC:\\Users\\fzhan\\AppData\\Local\\Continuum\\Anaconda3\\lib\\site-packages\\tensorflow\\python\\framework\\ops.py\u001b[0m in \u001b[0;36mrun\u001b[0;34m(self, feed_dict, session)\u001b[0m\n\u001b[1;32m   1447\u001b[0m         \u001b[0mnone\u001b[0m\u001b[1;33m,\u001b[0m \u001b[0mthe\u001b[0m \u001b[0mdefault\u001b[0m \u001b[0msession\u001b[0m \u001b[0mwill\u001b[0m \u001b[0mbe\u001b[0m \u001b[0mused\u001b[0m\u001b[1;33m.\u001b[0m\u001b[1;33m\u001b[0m\u001b[0m\n\u001b[1;32m   1448\u001b[0m     \"\"\"\n\u001b[0;32m-> 1449\u001b[0;31m     \u001b[0m_run_using_default_session\u001b[0m\u001b[1;33m(\u001b[0m\u001b[0mself\u001b[0m\u001b[1;33m,\u001b[0m \u001b[0mfeed_dict\u001b[0m\u001b[1;33m,\u001b[0m \u001b[0mself\u001b[0m\u001b[1;33m.\u001b[0m\u001b[0mgraph\u001b[0m\u001b[1;33m,\u001b[0m \u001b[0msession\u001b[0m\u001b[1;33m)\u001b[0m\u001b[1;33m\u001b[0m\u001b[0m\n\u001b[0m\u001b[1;32m   1450\u001b[0m \u001b[1;33m\u001b[0m\u001b[0m\n\u001b[1;32m   1451\u001b[0m \u001b[1;33m\u001b[0m\u001b[0m\n",
      "\u001b[0;32mC:\\Users\\fzhan\\AppData\\Local\\Continuum\\Anaconda3\\lib\\site-packages\\tensorflow\\python\\framework\\ops.py\u001b[0m in \u001b[0;36m_run_using_default_session\u001b[0;34m(operation, feed_dict, graph, session)\u001b[0m\n\u001b[1;32m   3666\u001b[0m                        \u001b[1;34m\"the operation's graph is different from the session's \"\u001b[0m\u001b[1;33m\u001b[0m\u001b[0m\n\u001b[1;32m   3667\u001b[0m                        \"graph.\")\n\u001b[0;32m-> 3668\u001b[0;31m   \u001b[0msession\u001b[0m\u001b[1;33m.\u001b[0m\u001b[0mrun\u001b[0m\u001b[1;33m(\u001b[0m\u001b[0moperation\u001b[0m\u001b[1;33m,\u001b[0m \u001b[0mfeed_dict\u001b[0m\u001b[1;33m)\u001b[0m\u001b[1;33m\u001b[0m\u001b[0m\n\u001b[0m\u001b[1;32m   3669\u001b[0m \u001b[1;33m\u001b[0m\u001b[0m\n\u001b[1;32m   3670\u001b[0m \u001b[1;33m\u001b[0m\u001b[0m\n",
      "\u001b[0;32mC:\\Users\\fzhan\\AppData\\Local\\Continuum\\Anaconda3\\lib\\site-packages\\tensorflow\\python\\client\\session.py\u001b[0m in \u001b[0;36mrun\u001b[0;34m(self, fetches, feed_dict, options, run_metadata)\u001b[0m\n\u001b[1;32m    764\u001b[0m     \u001b[1;32mtry\u001b[0m\u001b[1;33m:\u001b[0m\u001b[1;33m\u001b[0m\u001b[0m\n\u001b[1;32m    765\u001b[0m       result = self._run(None, fetches, feed_dict, options_ptr,\n\u001b[0;32m--> 766\u001b[0;31m                          run_metadata_ptr)\n\u001b[0m\u001b[1;32m    767\u001b[0m       \u001b[1;32mif\u001b[0m \u001b[0mrun_metadata\u001b[0m\u001b[1;33m:\u001b[0m\u001b[1;33m\u001b[0m\u001b[0m\n\u001b[1;32m    768\u001b[0m         \u001b[0mproto_data\u001b[0m \u001b[1;33m=\u001b[0m \u001b[0mtf_session\u001b[0m\u001b[1;33m.\u001b[0m\u001b[0mTF_GetBuffer\u001b[0m\u001b[1;33m(\u001b[0m\u001b[0mrun_metadata_ptr\u001b[0m\u001b[1;33m)\u001b[0m\u001b[1;33m\u001b[0m\u001b[0m\n",
      "\u001b[0;32mC:\\Users\\fzhan\\AppData\\Local\\Continuum\\Anaconda3\\lib\\site-packages\\tensorflow\\python\\client\\session.py\u001b[0m in \u001b[0;36m_run\u001b[0;34m(self, handle, fetches, feed_dict, options, run_metadata)\u001b[0m\n\u001b[1;32m    962\u001b[0m     \u001b[1;32mif\u001b[0m \u001b[0mfinal_fetches\u001b[0m \u001b[1;32mor\u001b[0m \u001b[0mfinal_targets\u001b[0m\u001b[1;33m:\u001b[0m\u001b[1;33m\u001b[0m\u001b[0m\n\u001b[1;32m    963\u001b[0m       results = self._do_run(handle, final_targets, final_fetches,\n\u001b[0;32m--> 964\u001b[0;31m                              feed_dict_string, options, run_metadata)\n\u001b[0m\u001b[1;32m    965\u001b[0m     \u001b[1;32melse\u001b[0m\u001b[1;33m:\u001b[0m\u001b[1;33m\u001b[0m\u001b[0m\n\u001b[1;32m    966\u001b[0m       \u001b[0mresults\u001b[0m \u001b[1;33m=\u001b[0m \u001b[1;33m[\u001b[0m\u001b[1;33m]\u001b[0m\u001b[1;33m\u001b[0m\u001b[0m\n",
      "\u001b[0;32mC:\\Users\\fzhan\\AppData\\Local\\Continuum\\Anaconda3\\lib\\site-packages\\tensorflow\\python\\client\\session.py\u001b[0m in \u001b[0;36m_do_run\u001b[0;34m(self, handle, target_list, fetch_list, feed_dict, options, run_metadata)\u001b[0m\n\u001b[1;32m   1012\u001b[0m     \u001b[1;32mif\u001b[0m \u001b[0mhandle\u001b[0m \u001b[1;32mis\u001b[0m \u001b[1;32mNone\u001b[0m\u001b[1;33m:\u001b[0m\u001b[1;33m\u001b[0m\u001b[0m\n\u001b[1;32m   1013\u001b[0m       return self._do_call(_run_fn, self._session, feed_dict, fetch_list,\n\u001b[0;32m-> 1014\u001b[0;31m                            target_list, options, run_metadata)\n\u001b[0m\u001b[1;32m   1015\u001b[0m     \u001b[1;32melse\u001b[0m\u001b[1;33m:\u001b[0m\u001b[1;33m\u001b[0m\u001b[0m\n\u001b[1;32m   1016\u001b[0m       return self._do_call(_prun_fn, self._session, handle, feed_dict,\n",
      "\u001b[0;32mC:\\Users\\fzhan\\AppData\\Local\\Continuum\\Anaconda3\\lib\\site-packages\\tensorflow\\python\\client\\session.py\u001b[0m in \u001b[0;36m_do_call\u001b[0;34m(self, fn, *args)\u001b[0m\n\u001b[1;32m   1019\u001b[0m   \u001b[1;32mdef\u001b[0m \u001b[0m_do_call\u001b[0m\u001b[1;33m(\u001b[0m\u001b[0mself\u001b[0m\u001b[1;33m,\u001b[0m \u001b[0mfn\u001b[0m\u001b[1;33m,\u001b[0m \u001b[1;33m*\u001b[0m\u001b[0margs\u001b[0m\u001b[1;33m)\u001b[0m\u001b[1;33m:\u001b[0m\u001b[1;33m\u001b[0m\u001b[0m\n\u001b[1;32m   1020\u001b[0m     \u001b[1;32mtry\u001b[0m\u001b[1;33m:\u001b[0m\u001b[1;33m\u001b[0m\u001b[0m\n\u001b[0;32m-> 1021\u001b[0;31m       \u001b[1;32mreturn\u001b[0m \u001b[0mfn\u001b[0m\u001b[1;33m(\u001b[0m\u001b[1;33m*\u001b[0m\u001b[0margs\u001b[0m\u001b[1;33m)\u001b[0m\u001b[1;33m\u001b[0m\u001b[0m\n\u001b[0m\u001b[1;32m   1022\u001b[0m     \u001b[1;32mexcept\u001b[0m \u001b[0merrors\u001b[0m\u001b[1;33m.\u001b[0m\u001b[0mOpError\u001b[0m \u001b[1;32mas\u001b[0m \u001b[0me\u001b[0m\u001b[1;33m:\u001b[0m\u001b[1;33m\u001b[0m\u001b[0m\n\u001b[1;32m   1023\u001b[0m       \u001b[0mmessage\u001b[0m \u001b[1;33m=\u001b[0m \u001b[0mcompat\u001b[0m\u001b[1;33m.\u001b[0m\u001b[0mas_text\u001b[0m\u001b[1;33m(\u001b[0m\u001b[0me\u001b[0m\u001b[1;33m.\u001b[0m\u001b[0mmessage\u001b[0m\u001b[1;33m)\u001b[0m\u001b[1;33m\u001b[0m\u001b[0m\n",
      "\u001b[0;32mC:\\Users\\fzhan\\AppData\\Local\\Continuum\\Anaconda3\\lib\\site-packages\\tensorflow\\python\\client\\session.py\u001b[0m in \u001b[0;36m_run_fn\u001b[0;34m(session, feed_dict, fetch_list, target_list, options, run_metadata)\u001b[0m\n\u001b[1;32m    997\u001b[0m                 run_metadata):\n\u001b[1;32m    998\u001b[0m       \u001b[1;31m# Ensure any changes to the graph are reflected in the runtime.\u001b[0m\u001b[1;33m\u001b[0m\u001b[1;33m\u001b[0m\u001b[0m\n\u001b[0;32m--> 999\u001b[0;31m       \u001b[0mself\u001b[0m\u001b[1;33m.\u001b[0m\u001b[0m_extend_graph\u001b[0m\u001b[1;33m(\u001b[0m\u001b[1;33m)\u001b[0m\u001b[1;33m\u001b[0m\u001b[0m\n\u001b[0m\u001b[1;32m   1000\u001b[0m       \u001b[1;32mwith\u001b[0m \u001b[0merrors\u001b[0m\u001b[1;33m.\u001b[0m\u001b[0mraise_exception_on_not_ok_status\u001b[0m\u001b[1;33m(\u001b[0m\u001b[1;33m)\u001b[0m \u001b[1;32mas\u001b[0m \u001b[0mstatus\u001b[0m\u001b[1;33m:\u001b[0m\u001b[1;33m\u001b[0m\u001b[0m\n\u001b[1;32m   1001\u001b[0m         return tf_session.TF_Run(session, options,\n",
      "\u001b[0;32mC:\\Users\\fzhan\\AppData\\Local\\Continuum\\Anaconda3\\lib\\site-packages\\tensorflow\\python\\client\\session.py\u001b[0m in \u001b[0;36m_extend_graph\u001b[0;34m(self)\u001b[0m\n\u001b[1;32m   1041\u001b[0m         graph_def, self._current_version = self._graph._as_graph_def(\n\u001b[1;32m   1042\u001b[0m             \u001b[0mfrom_version\u001b[0m\u001b[1;33m=\u001b[0m\u001b[0mself\u001b[0m\u001b[1;33m.\u001b[0m\u001b[0m_current_version\u001b[0m\u001b[1;33m,\u001b[0m\u001b[1;33m\u001b[0m\u001b[0m\n\u001b[0;32m-> 1043\u001b[0;31m             add_shapes=self._add_shapes)\n\u001b[0m\u001b[1;32m   1044\u001b[0m         \u001b[1;31m# pylint: enable=protected-access\u001b[0m\u001b[1;33m\u001b[0m\u001b[1;33m\u001b[0m\u001b[0m\n\u001b[1;32m   1045\u001b[0m \u001b[1;33m\u001b[0m\u001b[0m\n",
      "\u001b[0;32mC:\\Users\\fzhan\\AppData\\Local\\Continuum\\Anaconda3\\lib\\site-packages\\tensorflow\\python\\framework\\ops.py\u001b[0m in \u001b[0;36m_as_graph_def\u001b[0;34m(self, from_version, add_shapes)\u001b[0m\n\u001b[1;32m   2066\u001b[0m           \u001b[0mbytesize\u001b[0m \u001b[1;33m+=\u001b[0m \u001b[0mop\u001b[0m\u001b[1;33m.\u001b[0m\u001b[0mnode_def\u001b[0m\u001b[1;33m.\u001b[0m\u001b[0mByteSize\u001b[0m\u001b[1;33m(\u001b[0m\u001b[1;33m)\u001b[0m\u001b[1;33m\u001b[0m\u001b[0m\n\u001b[1;32m   2067\u001b[0m           \u001b[1;32mif\u001b[0m \u001b[0mbytesize\u001b[0m \u001b[1;33m>=\u001b[0m \u001b[1;33m(\u001b[0m\u001b[1;36m1\u001b[0m \u001b[1;33m<<\u001b[0m \u001b[1;36m31\u001b[0m\u001b[1;33m)\u001b[0m \u001b[1;32mor\u001b[0m \u001b[0mbytesize\u001b[0m \u001b[1;33m<\u001b[0m \u001b[1;36m0\u001b[0m\u001b[1;33m:\u001b[0m\u001b[1;33m\u001b[0m\u001b[0m\n\u001b[0;32m-> 2068\u001b[0;31m             \u001b[1;32mraise\u001b[0m \u001b[0mValueError\u001b[0m\u001b[1;33m(\u001b[0m\u001b[1;34m\"GraphDef cannot be larger than 2GB.\"\u001b[0m\u001b[1;33m)\u001b[0m\u001b[1;33m\u001b[0m\u001b[0m\n\u001b[0m\u001b[1;32m   2069\u001b[0m       \u001b[1;32mif\u001b[0m \u001b[0mself\u001b[0m\u001b[1;33m.\u001b[0m\u001b[0m_functions\u001b[0m\u001b[1;33m:\u001b[0m\u001b[1;33m\u001b[0m\u001b[0m\n\u001b[1;32m   2070\u001b[0m         \u001b[1;32mfor\u001b[0m \u001b[0mf\u001b[0m \u001b[1;32min\u001b[0m \u001b[0mself\u001b[0m\u001b[1;33m.\u001b[0m\u001b[0m_functions\u001b[0m\u001b[1;33m.\u001b[0m\u001b[0mvalues\u001b[0m\u001b[1;33m(\u001b[0m\u001b[1;33m)\u001b[0m\u001b[1;33m:\u001b[0m\u001b[1;33m\u001b[0m\u001b[0m\n",
      "\u001b[0;31mValueError\u001b[0m: GraphDef cannot be larger than 2GB."
     ]
    }
   ],
   "source": [
    "import tensorflow as tf \n",
    "import scipy.io\n",
    "import numpy as np\n",
    "import matplotlib.pyplot as plt\n",
    "from collections import Counter\n",
    "from sklearn.linear_model import SGDClassifier\n",
    "sess=tf.InteractiveSession()\n",
    "tf.global_variables_initializer().run()\n",
    "\n",
    "#==================EXTRACTING AND ANALYSING DATA FROM .mat FILES===============\n",
    "\"\"\"\n",
    "X and Y Components of Training and Testing Data\n",
    "\"\"\"\n",
    "train_data = scipy.io.loadmat('train_32x32.mat')['X']\n",
    "train_labels = scipy.io.loadmat('train_32x32.mat')['y']\n",
    "test_data = scipy.io.loadmat('test_32x32.mat')['X']\n",
    "test_labels = scipy.io.loadmat('test_32x32.mat')['y']\n",
    "\n",
    "train_data = train_data.astype('float32') / 128.0 - 1\n",
    "test_data = test_data.astype('float32') / 128.0 - 1\n",
    "\n",
    "\n",
    "\"\"\"\n",
    "Converting Labels to One Hot Encoding and Image Matrix to favourable dimensions\n",
    "\"\"\"\n",
    "def reformat(data):\n",
    "    xtrain = []\n",
    "    trainLen = data.shape[3]\n",
    "    for x in range(trainLen):\n",
    "        xtrain.append(data[:,:,:,x])\n",
    "    xtrain = np.asarray(xtrain)\n",
    "    \n",
    "    return xtrain\n",
    "train_data = reformat(train_data)\n",
    "test_data = reformat(test_data)\n",
    "train_labels=tf.one_hot(indices=train_labels,depth=10)\n",
    "train_labels=train_labels.eval().reshape(73257,10)\n",
    "test_labels=tf.one_hot(indices=test_labels,depth=10)\n",
    "train_labels=train_labels.eval().reshape(26032,10)\n",
    "\n",
    "\n",
    "\n",
    "#============================================================================\n",
    "\n",
    "#==================BUILDING THE CNN==========================================\n",
    "\"\"\"\n",
    "Various Hyperparameters required for training the CNN.\n",
    "\"\"\"\n",
    "image_size = 32\n",
    "width = 32\n",
    "height = 32\n",
    "channels = 3\n",
    "\n",
    "n_labels = 10\n",
    "patch = 5\n",
    "depth = 16\n",
    "hidden = 128\n",
    "dropout = 0.9375\n",
    "\n",
    "batch = 16\n",
    "learning_rate = 0.001\n",
    "\n",
    "\"\"\"\n",
    "Constructing the placeholders and variables in the TensorFlow Graph\n",
    "\"\"\"\n",
    "#Training Dataset\n",
    "tf_train_dataset = tf.placeholder(tf.float32, shape=(None, width, height, channels))\n",
    "#Training Labels\n",
    "tf_train_labels = tf.placeholder(tf.float32, shape=(None, n_labels))\n",
    "#Testing Dataset\n",
    "tf_test_dataset = tf.constant(test_data)\n",
    "\n",
    "#   Layer 1: (5, 5, 3, 16)\n",
    "layer1_weights = tf.Variable(tf.truncated_normal([patch, patch, channels, depth], stddev=0.1))\n",
    "layer1_biases = tf.Variable(tf.constant(1.0, shape=[depth]))\n",
    "\n",
    "#   Layer 2: (5, 5, 16, 16)\n",
    "layer2_weights = tf.Variable(tf.truncated_normal([patch, patch, depth, depth], stddev=0.1))\n",
    "layer2_biases = tf.Variable(tf.constant(1.0, shape=[depth]))\n",
    "\n",
    "#   Layer 3: (1024, 128)\n",
    "layer3_weights = tf.Variable(tf.truncated_normal([image_size // 4 * image_size // 4 * depth, hidden], stddev=0.1))\n",
    "layer3_biases = tf.Variable(tf.constant(1.0, shape=[hidden]))\n",
    "\n",
    "#   Layer 4: (128, 10)\n",
    "layer4_weights = tf.Variable(tf.truncated_normal([hidden, n_labels], stddev=0.1))\n",
    "layer4_biases = tf.Variable(tf.constant(1.0, shape=[n_labels]))\n",
    "\n",
    "dropout = tf.placeholder(tf.float32)\n",
    "\n",
    "def model(data):\n",
    "    #   Convolution 1 and RELU\n",
    "    conv1 = tf.nn.conv2d(data, layer1_weights, [1, 1, 1, 1], padding='SAME')\n",
    "    hidden1 = tf.nn.relu(conv1 + layer1_biases)\n",
    "    #   Max Pool\n",
    "    hidden2 = tf.nn.max_pool(hidden1, ksize=[1, 2, 2, 1], strides=[1, 2, 2, 1], padding='SAME')\n",
    "    #   Convolution 2 and RELU\n",
    "    conv2 = tf.nn.conv2d(hidden2, layer2_weights, [1, 1, 1, 1], padding='SAME')\n",
    "    hidden3 = tf.nn.relu(conv2 + layer2_biases)\n",
    "    #   Max Pool\n",
    "    hidden4 = tf.nn.max_pool(hidden3, ksize=[1, 2, 2, 1], strides=[1, 2, 2, 1], padding='SAME')\n",
    "\n",
    "    shape = hidden4.get_shape().as_list()\n",
    "\n",
    "    reshape = tf.reshape(hidden4, [-1, shape[1] * shape[2] * shape[3]])\n",
    "    hidden5 = tf.nn.relu(tf.matmul(reshape, layer3_weights) + layer3_biases)\n",
    "    #   Dropout\n",
    "    dropout_layer = tf.nn.dropout(hidden5, 0.93)\n",
    "    \n",
    "    return tf.matmul(dropout_layer, layer4_weights) + layer4_biases\n",
    "\n",
    "logits = model(tf_train_dataset)\n",
    "loss = tf.reduce_mean(tf.nn.softmax_cross_entropy_with_logits(logits, tf_train_labels))\n",
    "optimizer = tf.train.AdamOptimizer(0.001).minimize(loss)\n",
    "\n",
    "train_prediction = tf.nn.softmax(logits)\n",
    "test_prediction = tf.nn.softmax(model(tf_test_dataset))\n",
    "#============================================================================\n",
    "\n",
    "#==================TRAINING AND TESTING THE MODEL============================\n",
    "\"\"\"\n",
    "Accuracy function defined similar to the one taught in the Udacity Deep Learning Course\n",
    "Returns percentage of correct predictions by verifying with Labels\n",
    "\"\"\"\n",
    "def accuracy(predictions, labels):\n",
    "    return (100.0 * np.sum(np.argmax(predictions, 1) == np.argmax(labels, 1))\n",
    "          / predictions.shape[0])\n",
    "\n",
    "#   Number of iterations\n",
    "num_steps = 10000\n",
    "\n",
    "sess.run(tf.global_variables_initializer())\n",
    "print('Initialized')\n",
    "average = 0\n",
    "for step in range(num_steps):\n",
    "    #   Constucting the batch from the data set\n",
    "    offset = (step * batch) % (73257 - batch)\n",
    "    batch_data = train_data[offset:(offset + batch), :, :, :]\n",
    "    batch_labels = train_labels[offset:(offset + batch), :]\n",
    "    #   Dictionary to be fed to TensorFlow Session\n",
    "    feed_dict = {tf_train_dataset : batch_data, tf_train_labels : batch_labels, dropout: 0.93}\n",
    "    _, l, predictions = sess.run([optimizer, loss, train_prediction], feed_dict=feed_dict)\n",
    "    #   Calculating the Accuracy of the predictions\n",
    "    accu = accuracy(predictions, batch_labels)\n",
    "    if (step % 50 == 0):\n",
    "        print('Minibatch loss at step %d: %f' % (step, l))\n",
    "        print('Minibatch accuracy: %.1f%%' % accu)\n",
    "    average += accu"
   ]
  },
  {
   "cell_type": "code",
   "execution_count": null,
   "metadata": {
    "collapsed": true
   },
   "outputs": [],
   "source": []
  }
 ],
 "metadata": {
  "anaconda-cloud": {},
  "kernelspec": {
   "display_name": "Python [default]",
   "language": "python",
   "name": "python3"
  },
  "language_info": {
   "codemirror_mode": {
    "name": "ipython",
    "version": 3
   },
   "file_extension": ".py",
   "mimetype": "text/x-python",
   "name": "python",
   "nbconvert_exporter": "python",
   "pygments_lexer": "ipython3",
   "version": "3.5.2"
  }
 },
 "nbformat": 4,
 "nbformat_minor": 1
}
