{
 "cells": [
  {
   "cell_type": "markdown",
   "metadata": {},
   "source": [
    "# Skip-gram word2vec\n",
    "\n",
    "In this notebook, I'll lead you through using TensorFlow to implement the word2vec algorithm using the skip-gram architecture. By implementing this, you'll learn about embedding words for use in natural language processing. This will come in handy when dealing with things like machine translation.\n",
    "\n",
    "## Readings\n",
    "\n",
    "Here are the resources I used to build this notebook. I suggest reading these either beforehand or while you're working on this material.\n",
    "\n",
    "* A really good [conceptual overview](http://mccormickml.com/2016/04/19/word2vec-tutorial-the-skip-gram-model/) of word2vec from Chris McCormick \n",
    "* [First word2vec paper](https://arxiv.org/pdf/1301.3781.pdf) from Mikolov et al.\n",
    "* [NIPS paper](http://papers.nips.cc/paper/5021-distributed-representations-of-words-and-phrases-and-their-compositionality.pdf) with improvements for word2vec also from Mikolov et al.\n",
    "* An [implementation of word2vec](http://www.thushv.com/natural_language_processing/word2vec-part-1-nlp-with-deep-learning-with-tensorflow-skip-gram/) from Thushan Ganegedara\n",
    "* TensorFlow [word2vec tutorial](https://www.tensorflow.org/tutorials/word2vec)\n",
    "\n",
    "## Word embeddings\n",
    "\n",
    "When you're dealing with words in text, you end up with tens of thousands of classes to predict, one for each word. Trying to one-hot encode these words is massively inefficient, you'll have one element set to 1 and the other 50,000 set to 0. The matrix multiplication going into the first hidden layer will have almost all of the resulting values be zero. This a huge waste of computation. \n",
    "\n",
    "![one-hot encodings](assets/one_hot_encoding.png)\n",
    "\n",
    "To solve this problem and greatly increase the efficiency of our networks, we use what are called embeddings. Embeddings are just a fully connected layer like you've seen before. We call this layer the embedding layer and the weights are embedding weights. We skip the multiplication into the embedding layer by instead directly grabbing the hidden layer values from the weight matrix. We can do this because the multiplication of a one-hot encoded vector with a matrix returns the row of the matrix corresponding the index of the \"on\" input unit.\n",
    "\n",
    "![lookup](assets/lookup_matrix.png)\n",
    "\n",
    "Instead of doing the matrix multiplication, we use the weight matrix as a lookup table. We encode the words as integers, for example \"heart\" is encoded as 958, \"mind\" as 18094. Then to get hidden layer values for \"heart\", you just take the 958th row of the embedding matrix. This process is called an **embedding lookup** and the number of hidden units is the **embedding dimension**.\n",
    "\n",
    "<img src='assets/tokenize_lookup.png' width=500>\n",
    " \n",
    "There is nothing magical going on here. The embedding lookup table is just a weight matrix. The embedding layer is just a hidden layer. The lookup is just a shortcut for the matrix multiplication. The lookup table is trained just like any weight matrix as well.\n",
    "\n",
    "Embeddings aren't only used for words of course. You can use them for any model where you have a massive number of classes. A particular type of model called **Word2Vec** uses the embedding layer to find vector representations of words that contain semantic meaning.\n",
    "\n"
   ]
  },
  {
   "cell_type": "markdown",
   "metadata": {},
   "source": [
    "## Word2Vec\n",
    "\n",
    "The word2vec algorithm finds much more efficient representations by finding vectors that represent the words. These vectors also contain semantic information about the words. Words that show up in similar contexts, such as \"black\", \"white\", and \"red\" will have vectors near each other. There are two architectures for implementing word2vec, CBOW (Continuous Bag-Of-Words) and Skip-gram.\n",
    "\n",
    "<img src=\"assets/word2vec_architectures.png\" width=\"500\">\n",
    "\n",
    "In this implementation, we'll be using the skip-gram architecture because it performs better than CBOW. Here, we pass in a word and try to predict the words surrounding it in the text. In this way, we can train the network to learn representations for words that show up in similar contexts.\n",
    "\n",
    "First up, importing packages."
   ]
  },
  {
   "cell_type": "code",
   "execution_count": 1,
   "metadata": {
    "collapsed": true
   },
   "outputs": [],
   "source": [
    "import time\n",
    "\n",
    "import numpy as np\n",
    "import tensorflow as tf\n",
    "\n",
    "import utils"
   ]
  },
  {
   "cell_type": "markdown",
   "metadata": {},
   "source": [
    "Load the [text8 dataset](http://mattmahoney.net/dc/textdata.html), a file of cleaned up Wikipedia articles from Matt Mahoney. The next cell will download the data set to the `data` folder. Then you can extract it and delete the archive file to save storage space."
   ]
  },
  {
   "cell_type": "code",
   "execution_count": 3,
   "metadata": {
    "collapsed": true
   },
   "outputs": [],
   "source": [
    "from urllib.request import urlretrieve\n",
    "from os.path import isfile, isdir\n",
    "from tqdm import tqdm\n",
    "import zipfile\n",
    "\n",
    "dataset_folder_path = 'data'\n",
    "dataset_filename = 'text8.zip'\n",
    "dataset_name = 'Text8 Dataset'\n",
    "\n",
    "class DLProgress(tqdm):\n",
    "    last_block = 0\n",
    "\n",
    "    def hook(self, block_num=1, block_size=1, total_size=None):\n",
    "        self.total = total_size\n",
    "        self.update((block_num - self.last_block) * block_size)\n",
    "        self.last_block = block_num\n",
    "\n",
    "if not isfile(dataset_filename):\n",
    "    with DLProgress(unit='B', unit_scale=True, miniters=1, desc=dataset_name) as pbar:\n",
    "        urlretrieve(\n",
    "            'http://mattmahoney.net/dc/text8.zip',\n",
    "            dataset_filename,\n",
    "            pbar.hook)\n",
    "\n",
    "if not isdir(dataset_folder_path):\n",
    "    with zipfile.ZipFile(dataset_filename) as zip_ref:\n",
    "        zip_ref.extractall(dataset_folder_path)\n",
    "        \n",
    "with open('data/text8') as f:\n",
    "    text = f.read()"
   ]
  },
  {
   "cell_type": "markdown",
   "metadata": {},
   "source": [
    "## Preprocessing\n",
    "\n",
    "Here I'm fixing up the text to make training easier. This comes from the `utils` module I wrote. The `preprocess` function coverts any punctuation into tokens, so a period is changed to ` <PERIOD> `. In this data set, there aren't any periods, but it will help in other NLP problems. I'm also removing all words that show up five or fewer times in the dataset. This will greatly reduce issues due to noise in the data and improve the quality of the vector representations. If you want to write your own functions for this stuff, go for it."
   ]
  },
  {
   "cell_type": "code",
   "execution_count": 4,
   "metadata": {},
   "outputs": [
    {
     "name": "stdout",
     "output_type": "stream",
     "text": [
      "['anarchism', 'originated', 'as', 'a', 'term', 'of', 'abuse', 'first', 'used', 'against', 'early', 'working', 'class', 'radicals', 'including', 'the', 'diggers', 'of', 'the', 'english', 'revolution', 'and', 'the', 'sans', 'culottes', 'of', 'the', 'french', 'revolution', 'whilst']\n"
     ]
    }
   ],
   "source": [
    "words = utils.preprocess(text)\n",
    "print(words[:30])"
   ]
  },
  {
   "cell_type": "code",
   "execution_count": 5,
   "metadata": {},
   "outputs": [
    {
     "name": "stdout",
     "output_type": "stream",
     "text": [
      "Total words: 16680599\n",
      "Unique words: 63641\n"
     ]
    }
   ],
   "source": [
    "print(\"Total words: {}\".format(len(words)))\n",
    "print(\"Unique words: {}\".format(len(set(words))))"
   ]
  },
  {
   "cell_type": "markdown",
   "metadata": {},
   "source": [
    "And here I'm creating dictionaries to covert words to integers and backwards, integers to words. The integers are assigned in descending frequency order, so the most frequent word (\"the\") is given the integer 0 and the next most frequent is 1 and so on. The words are converted to integers and stored in the list `int_words`."
   ]
  },
  {
   "cell_type": "code",
   "execution_count": 7,
   "metadata": {
    "collapsed": true
   },
   "outputs": [],
   "source": [
    "vocab_to_int, int_to_vocab = utils.create_lookup_tables(words)\n",
    "int_words = [vocab_to_int[word] for word in words]"
   ]
  },
  {
   "cell_type": "code",
   "execution_count": 9,
   "metadata": {},
   "outputs": [
    {
     "data": {
      "text/plain": [
       "[5235, 3083, 11, 5, 194, 1, 3135, 45, 58, 155]"
      ]
     },
     "execution_count": 9,
     "metadata": {},
     "output_type": "execute_result"
    }
   ],
   "source": [
    "int_words[:10]"
   ]
  },
  {
   "cell_type": "markdown",
   "metadata": {},
   "source": [
    "## Subsampling\n",
    "\n",
    "Words that show up often such as \"the\", \"of\", and \"for\" don't provide much context to the nearby words. If we discard some of them, we can remove some of the noise from our data and in return get faster training and better representations. This process is called subsampling by Mikolov. For each word $w_i$ in the training set, we'll discard it with probability given by \n",
    "\n",
    "$$ P(w_i) = 1 - \\sqrt{\\frac{t}{f(w_i)}} $$\n",
    "\n",
    "where $t$ is a threshold parameter and $f(w_i)$ is the frequency of word $w_i$ in the total dataset.\n",
    "\n",
    "I'm going to leave this up to you as an exercise. This is more of a programming challenge, than about deep learning specifically. But, being able to prepare your data for your network is an important skill to have. Check out my solution to see how I did it.\n",
    "\n",
    "> **Exercise:** Implement subsampling for the words in `int_words`. That is, go through `int_words` and discard each word given the probablility $P(w_i)$ shown above. Note that $P(w_i)$ is the probability that a word is discarded. Assign the subsampled data to `train_words`."
   ]
  },
  {
   "cell_type": "code",
   "execution_count": 10,
   "metadata": {
    "collapsed": true
   },
   "outputs": [],
   "source": [
    "## Your code here\n",
    "from collections import Counter\n",
    "import random\n",
    "t=1e-5\n",
    "word_counts=Counter(int_words)\n",
    "p={word:1-(t/(word_counts[word]/len(int_words)))**0.5 for word in int_words}\n",
    "train_words = [word for word in int_words if random.random()<1-p[word]]\n",
    "# The final subsampled word list"
   ]
  },
  {
   "cell_type": "code",
   "execution_count": 11,
   "metadata": {},
   "outputs": [
    {
     "data": {
      "text/plain": [
       "[5235, 3135, 741, 10599, 27381, 854, 15097, 62599, 3582, 10776]"
      ]
     },
     "execution_count": 11,
     "metadata": {},
     "output_type": "execute_result"
    }
   ],
   "source": [
    "train_words[:10]"
   ]
  },
  {
   "cell_type": "markdown",
   "metadata": {},
   "source": [
    "## Making batches"
   ]
  },
  {
   "cell_type": "markdown",
   "metadata": {},
   "source": [
    "Now that our data is in good shape, we need to get it into the proper form to pass it into our network. With the skip-gram architecture, for each word in the text, we want to grab all the words in a window around that word, with size $C$. \n",
    "\n",
    "From [Mikolov et al.](https://arxiv.org/pdf/1301.3781.pdf): \n",
    "\n",
    "\"Since the more distant words are usually less related to the current word than those close to it, we give less weight to the distant words by sampling less from those words in our training examples... If we choose $C = 5$, for each training word we will select randomly a number $R$ in range $< 1; C >$, and then use $R$ words from history and $R$ words from the future of the current word as correct labels.\"\n",
    "\n",
    "> **Exercise:** Implement a function `get_target` that receives a list of words, an index, and a window size, then returns a list of words in the window around the index. Make sure to use the algorithm described above, where you choose a random number of words from the window."
   ]
  },
  {
   "cell_type": "code",
   "execution_count": 12,
   "metadata": {
    "collapsed": true
   },
   "outputs": [],
   "source": [
    "def get_target(words, idx, window_size=5):\n",
    "    ''' Get a list of words in a window around an index. '''\n",
    "    \n",
    "    # Your code here\n",
    "    num=random.randint(1,window_size+1)\n",
    "    start=idx-num if idx-num>=0 else 0\n",
    "    stop=idx+num if idx+num<len(words) else len(words)-1    \n",
    "    return set(words[idx-num:idx]+words[idx+1:idx+num+1])"
   ]
  },
  {
   "cell_type": "markdown",
   "metadata": {},
   "source": [
    "Here's a function that returns batches for our network. The idea is that it grabs `batch_size` words from a words list. Then for each of those words, it gets the target words in the window. I haven't found a way to pass in a random number of target words and get it to work with the architecture, so I make one row per input-target pair. This is a generator function by the way, helps save memory."
   ]
  },
  {
   "cell_type": "code",
   "execution_count": 13,
   "metadata": {
    "collapsed": true
   },
   "outputs": [],
   "source": [
    "def get_batches(words, batch_size, window_size=5):\n",
    "    ''' Create a generator of word batches as a tuple (inputs, targets) '''\n",
    "    \n",
    "    n_batches = len(words)//batch_size\n",
    "    \n",
    "    # only full batches\n",
    "    words = words[:n_batches*batch_size]\n",
    "    \n",
    "    for idx in range(0, len(words), batch_size):\n",
    "        x, y = [], []\n",
    "        batch = words[idx:idx+batch_size]\n",
    "        for ii in range(len(batch)):\n",
    "            batch_x = batch[ii]\n",
    "            batch_y = get_target(batch, ii, window_size)\n",
    "            y.extend(batch_y)\n",
    "            x.extend([batch_x]*len(batch_y))\n",
    "        yield x, y\n",
    "    "
   ]
  },
  {
   "cell_type": "markdown",
   "metadata": {},
   "source": [
    "## Building the graph\n",
    "\n",
    "From [Chris McCormick's blog](http://mccormickml.com/2016/04/19/word2vec-tutorial-the-skip-gram-model/), we can see the general structure of our network.\n",
    "![embedding_network](./assets/skip_gram_net_arch.png)\n",
    "\n",
    "The input words are passed in as integers. This will go into a hidden layer of linear units, then into a softmax layer. We'll use the softmax layer to make a prediction like normal.\n",
    "\n",
    "The idea here is to train the hidden layer weight matrix to find efficient representations for our words. We can discard the softmax layer becuase we don't really care about making predictions with this network. We just want the embedding matrix so we can use it in other networks we build from the dataset.\n",
    "\n",
    "I'm going to have you build the graph in stages now. First off, creating the `inputs` and `labels` placeholders like normal.\n",
    "\n",
    "> **Exercise:** Assign `inputs` and `labels` using `tf.placeholder`. We're going to be passing in integers, so set the data types to `tf.int32`. The batches we're passing in will have varying sizes, so set the batch sizes to [`None`]. To make things work later, you'll need to set the second dimension of `labels` to `None` or `1`."
   ]
  },
  {
   "cell_type": "code",
   "execution_count": 16,
   "metadata": {
    "collapsed": true
   },
   "outputs": [],
   "source": [
    "train_graph = tf.Graph()\n",
    "with train_graph.as_default():\n",
    "    inputs = tf.placeholder(tf.int32,[None],name='input')\n",
    "    labels = tf.placeholder(tf.int32,[None,None],name='labels')"
   ]
  },
  {
   "cell_type": "markdown",
   "metadata": {},
   "source": [
    "## Embedding\n",
    "\n"
   ]
  },
  {
   "cell_type": "markdown",
   "metadata": {
    "collapsed": true
   },
   "source": [
    "The embedding matrix has a size of the number of words by the number of units in the hidden layer. So, if you have 10,000 words and 300 hidden units, the matrix will have size $10,000 \\times 300$. Remember that we're using tokenized data for our inputs, usually as integers, where the number of tokens is the number of words in our vocabulary.\n",
    "\n",
    "\n",
    "> **Exercise:** Tensorflow provides a convenient function [`tf.nn.embedding_lookup`](https://www.tensorflow.org/api_docs/python/tf/nn/embedding_lookup) that does this lookup for us. You pass in the embedding matrix and a tensor of integers, then it returns rows in the matrix corresponding to those integers. Below, set the number of embedding features you'll use (200 is a good start), create the embedding matrix variable, and use `tf.nn.embedding_lookup` to get the embedding tensors. For the embedding matrix, I suggest you initialize it with a uniform random numbers between -1 and 1 using [tf.random_uniform](https://www.tensorflow.org/api_docs/python/tf/random_uniform)."
   ]
  },
  {
   "cell_type": "code",
   "execution_count": 17,
   "metadata": {},
   "outputs": [],
   "source": [
    "n_vocab = len(int_to_vocab)\n",
    "n_embedding = 200 # Number of embedding features \n",
    "with train_graph.as_default():\n",
    "    embedding = tf.Variable(tf.random_uniform((n_vocab,n_embedding),-1,1))# create embedding weight matrix here\n",
    "    embed = tf.nn.embedding_lookup(embedding,inputs) # use tf.nn.embedding_lookup to get the hidden layer output"
   ]
  },
  {
   "cell_type": "markdown",
   "metadata": {},
   "source": [
    "## Negative sampling\n",
    "\n"
   ]
  },
  {
   "cell_type": "markdown",
   "metadata": {},
   "source": [
    "For every example we give the network, we train it using the output from the softmax layer. That means for each input, we're making very small changes to millions of weights even though we only have one true example. This makes training the network very inefficient. We can approximate the loss from the softmax layer by only updating a small subset of all the weights at once. We'll update the weights for the correct label, but only a small number of incorrect labels. This is called [\"negative sampling\"](http://papers.nips.cc/paper/5021-distributed-representations-of-words-and-phrases-and-their-compositionality.pdf). Tensorflow has a convenient function to do this, [`tf.nn.sampled_softmax_loss`](https://www.tensorflow.org/api_docs/python/tf/nn/sampled_softmax_loss).\n",
    "\n",
    "> **Exercise:** Below, create weights and biases for the softmax layer. Then, use [`tf.nn.sampled_softmax_loss`](https://www.tensorflow.org/api_docs/python/tf/nn/sampled_softmax_loss) to calculate the loss. Be sure to read the documentation to figure out how it works."
   ]
  },
  {
   "cell_type": "code",
   "execution_count": 22,
   "metadata": {},
   "outputs": [],
   "source": [
    "# Number of negative labels to sample\n",
    "n_sampled = 100\n",
    "with train_graph.as_default():\n",
    "    softmax_w = tf.Variable(tf.truncated_normal((n_vocab, n_embedding),stddev=0.1))# create softmax weight matrix here\n",
    "    softmax_b = tf.Variable(tf.zeros(n_vocab))# create softmax biases here\n",
    "    \n",
    "    # Calculate the loss using negative sampling\n",
    "    loss = tf.nn.sampled_softmax_loss(softmax_w,softmax_b,labels,embed,n_sampled,n_vocab)\n",
    "    \n",
    "    cost = tf.reduce_mean(loss)\n",
    "    optimizer = tf.train.AdamOptimizer().minimize(cost)"
   ]
  },
  {
   "cell_type": "markdown",
   "metadata": {},
   "source": [
    "## Validation\n",
    "\n",
    "This code is from Thushan Ganegedara's implementation. Here we're going to choose a few common words and few uncommon words. Then, we'll print out the closest words to them. It's a nice way to check that our embedding table is grouping together words with similar semantic meanings."
   ]
  },
  {
   "cell_type": "code",
   "execution_count": 23,
   "metadata": {
    "collapsed": true
   },
   "outputs": [],
   "source": [
    "with train_graph.as_default():\n",
    "    ## From Thushan Ganegedara's implementation\n",
    "    valid_size = 16 # Random set of words to evaluate similarity on.\n",
    "    valid_window = 100\n",
    "    # pick 8 samples from (0,100) and (1000,1100) each ranges. lower id implies more frequent \n",
    "    valid_examples = np.array(random.sample(range(valid_window), valid_size//2))\n",
    "    valid_examples = np.append(valid_examples, \n",
    "                               random.sample(range(1000,1000+valid_window), valid_size//2))\n",
    "\n",
    "    valid_dataset = tf.constant(valid_examples, dtype=tf.int32)\n",
    "    \n",
    "    # We use the cosine distance:\n",
    "    norm = tf.sqrt(tf.reduce_sum(tf.square(embedding), 1, keep_dims=True))\n",
    "    normalized_embedding = embedding / norm\n",
    "    valid_embedding = tf.nn.embedding_lookup(normalized_embedding, valid_dataset)\n",
    "    similarity = tf.matmul(valid_embedding, tf.transpose(normalized_embedding))"
   ]
  },
  {
   "cell_type": "code",
   "execution_count": 24,
   "metadata": {
    "collapsed": true
   },
   "outputs": [],
   "source": [
    "# If the checkpoints directory doesn't exist:\n",
    "!mkdir checkpoints"
   ]
  },
  {
   "cell_type": "markdown",
   "metadata": {},
   "source": [
    "## Training\n",
    "\n",
    "Below is the code to train the network. Every 100 batches it reports the training loss. Every 1000 batches, it'll print out the validation words."
   ]
  },
  {
   "cell_type": "code",
   "execution_count": null,
   "metadata": {},
   "outputs": [
    {
     "name": "stdout",
     "output_type": "stream",
     "text": [
      "Epoch 1/10 Iteration: 100 Avg. Training loss: 5.6423 0.4705 sec/batch\n",
      "Epoch 1/10 Iteration: 200 Avg. Training loss: 5.6041 0.4687 sec/batch\n",
      "Epoch 1/10 Iteration: 300 Avg. Training loss: 5.5198 0.4794 sec/batch\n",
      "Epoch 1/10 Iteration: 400 Avg. Training loss: 5.5935 0.4732 sec/batch\n",
      "Epoch 1/10 Iteration: 500 Avg. Training loss: 5.5269 0.4624 sec/batch\n",
      "Epoch 1/10 Iteration: 600 Avg. Training loss: 5.5289 0.4984 sec/batch\n",
      "Epoch 1/10 Iteration: 700 Avg. Training loss: 5.5126 0.4618 sec/batch\n",
      "Epoch 1/10 Iteration: 800 Avg. Training loss: 5.5369 0.4811 sec/batch\n",
      "Epoch 1/10 Iteration: 900 Avg. Training loss: 5.4877 0.5043 sec/batch\n",
      "Epoch 1/10 Iteration: 1000 Avg. Training loss: 5.4369 0.4916 sec/batch\n",
      "Nearest to his: terrified, tenets, soulful, stonehenge, worry, spada, shab, brotherhood,\n",
      "Nearest to to: attach, arterial, kerosene, shots, nephews, iom, autocorrelation, bh,\n",
      "Nearest to he: upward, ellicott, humoral, author, polyalphabetic, dickensian, locals, flown,\n",
      "Nearest to there: scroll, immigration, zajdel, takeover, rennie, rachmaninoff, invocation, nilo,\n",
      "Nearest to their: chapel, blest, hx, preferring, dor, location, supercomputing, hydrolysed,\n",
      "Nearest to between: determining, sputnik, increasingly, a, bihar, sanatorium, disseminated, practice,\n",
      "Nearest to been: lemuria, crew, chas, brueys, protectorate, variations, asanga, sarah,\n",
      "Nearest to d: interval, wins, nefarious, zinc, harvesting, bursting, qur, invocation,\n",
      "Nearest to defense: robotech, whitewater, rendered, liquefied, kiesinger, clifford, biathlete, photographs,\n",
      "Nearest to existence: jann, neptune, maronite, adorning, bend, tipu, jussive, caruana,\n",
      "Nearest to experience: timeless, horizontal, pagans, chondrichthyes, brahma, gmt, locke, diarrhea,\n",
      "Nearest to nobel: sanshiro, uz, dak, elena, blaze, garnett, root, renewal,\n",
      "Nearest to know: digging, dismissed, coffea, analyzer, hamito, languedoc, respondents, velocity,\n",
      "Nearest to engineering: orbiter, aquilonia, clos, emphasised, drew, tei, preuss, bombarded,\n",
      "Nearest to construction: avian, fermium, inconvenience, zhang, involving, shuster, jouvenel, micronation,\n",
      "Nearest to recorded: nun, excise, dynamism, rayon, roe, infect, bw, hatched,\n",
      "Epoch 1/10 Iteration: 1100 Avg. Training loss: 5.5039 0.4691 sec/batch\n",
      "Epoch 1/10 Iteration: 1200 Avg. Training loss: 5.3656 0.4868 sec/batch\n",
      "Epoch 1/10 Iteration: 1300 Avg. Training loss: 5.3488 0.4685 sec/batch\n",
      "Epoch 1/10 Iteration: 1400 Avg. Training loss: 5.2187 0.4683 sec/batch\n",
      "Epoch 1/10 Iteration: 1500 Avg. Training loss: 5.1465 0.4850 sec/batch\n",
      "Epoch 1/10 Iteration: 1600 Avg. Training loss: 5.1524 0.4637 sec/batch\n",
      "Epoch 1/10 Iteration: 1700 Avg. Training loss: 5.0777 0.4612 sec/batch\n",
      "Epoch 1/10 Iteration: 1800 Avg. Training loss: 5.0440 0.4595 sec/batch\n",
      "Epoch 1/10 Iteration: 1900 Avg. Training loss: 5.0023 0.4624 sec/batch\n",
      "Epoch 1/10 Iteration: 2000 Avg. Training loss: 4.9994 0.4714 sec/batch\n",
      "Nearest to his: terrified, tenets, worry, stonehenge, soulful, effect, treaty, equations,\n",
      "Nearest to to: concept, attach, lived, believed, any, shots, arterial, guide,\n",
      "Nearest to he: upward, author, students, humoral, ellicott, qualified, locals, flown,\n",
      "Nearest to there: immigration, scroll, invocation, white, herself, run, agrees, commissioner,\n",
      "Nearest to their: preferring, chapel, location, terms, warm, keep, blest, dor,\n",
      "Nearest to between: determining, increasingly, derives, practice, sputnik, installed, millions, a,\n",
      "Nearest to been: crew, variations, limiting, indication, seasons, unsettling, lemuria, sarah,\n",
      "Nearest to d: interval, wins, harvesting, progression, bursting, zinc, implement, board,\n",
      "Nearest to defense: robotech, rendered, photographs, finished, radical, acknowledged, clifford, puzzle,\n",
      "Nearest to existence: neptune, illustrate, tipu, adorning, jann, age, close, bend,\n",
      "Nearest to experience: horizontal, pagans, gmt, timeless, connection, locke, chondrichthyes, sacred,\n",
      "Nearest to nobel: sanshiro, elena, renewal, root, blaze, dak, uz, cist,\n",
      "Nearest to know: digging, compared, dismissed, velocity, analyzer, coffea, pointer, overran,\n",
      "Nearest to engineering: orbiter, drew, community, emphasised, aquilonia, transylvania, bombarded, francione,\n",
      "Nearest to construction: avian, work, involving, inconvenience, bed, production, mostly, shuster,\n",
      "Nearest to recorded: excise, nun, roe, infect, sensitive, newspaper, christmas, unclear,\n",
      "Epoch 1/10 Iteration: 2100 Avg. Training loss: 4.9153 0.4760 sec/batch\n",
      "Epoch 1/10 Iteration: 2200 Avg. Training loss: 4.8841 0.4657 sec/batch\n",
      "Epoch 1/10 Iteration: 2300 Avg. Training loss: 4.8682 0.4796 sec/batch\n",
      "Epoch 1/10 Iteration: 2400 Avg. Training loss: 4.8488 0.4740 sec/batch\n",
      "Epoch 1/10 Iteration: 2500 Avg. Training loss: 4.8300 0.4640 sec/batch\n",
      "Epoch 1/10 Iteration: 2600 Avg. Training loss: 4.8179 0.4752 sec/batch\n",
      "Epoch 1/10 Iteration: 2700 Avg. Training loss: 4.8093 0.4670 sec/batch\n",
      "Epoch 1/10 Iteration: 2800 Avg. Training loss: 4.7669 0.4647 sec/batch\n",
      "Epoch 1/10 Iteration: 2900 Avg. Training loss: 4.7729 0.4679 sec/batch\n",
      "Epoch 1/10 Iteration: 3000 Avg. Training loss: 4.7710 0.4659 sec/batch\n",
      "Nearest to his: terrified, tenets, stonehenge, worry, soulful, furthering, brotherhood, lusp,\n",
      "Nearest to to: attach, concept, arterial, creep, er, neighbouring, phenomena, believed,\n",
      "Nearest to he: upward, author, inaugural, qualified, humoral, manifested, sadducees, insightful,\n",
      "Nearest to there: scroll, invocation, immigration, sic, takeover, confusion, dirt, rennie,\n",
      "Nearest to their: chapel, preferring, blest, advises, location, hx, fed, terms,\n",
      "Nearest to between: determining, installed, derives, disseminated, sputnik, increasingly, practice, sanatorium,\n",
      "Nearest to been: crew, limiting, variations, lemuria, indication, protectorate, seasons, disagreements,\n",
      "Nearest to d: interval, progression, wins, bursting, qur, harvesting, lorraine, zinc,\n",
      "Nearest to defense: robotech, puzzle, acknowledged, photographs, finished, rendered, radical, clifford,\n",
      "Nearest to existence: neptune, adorning, tipu, bend, jann, ronald, close, illustrate,\n",
      "Nearest to experience: horizontal, timeless, pagans, gmt, locke, connection, unpublished, chondrichthyes,\n",
      "Nearest to nobel: sanshiro, elena, blaze, renewal, friedmann, dabbled, uz, saturday,\n",
      "Nearest to know: digging, dismissed, compared, velocity, overran, analyzer, respondents, pointer,\n",
      "Nearest to engineering: orbiter, drew, emphasised, community, transylvania, aquilonia, guilt, bombarded,\n",
      "Nearest to construction: avian, inconvenience, rear, work, fermium, zhang, bed, involving,\n",
      "Nearest to recorded: nun, excise, roe, christmas, infect, hatched, sensitive, percent,\n",
      "Epoch 1/10 Iteration: 3100 Avg. Training loss: 4.7523 0.4737 sec/batch\n",
      "Epoch 1/10 Iteration: 3200 Avg. Training loss: 4.7505 0.4683 sec/batch\n",
      "Epoch 1/10 Iteration: 3300 Avg. Training loss: 4.7296 0.4618 sec/batch\n",
      "Epoch 1/10 Iteration: 3400 Avg. Training loss: 4.7115 0.4625 sec/batch\n",
      "Epoch 1/10 Iteration: 3500 Avg. Training loss: 4.7457 0.4653 sec/batch\n",
      "Epoch 1/10 Iteration: 3600 Avg. Training loss: 4.6976 0.4665 sec/batch\n",
      "Epoch 1/10 Iteration: 3700 Avg. Training loss: 4.7212 0.4613 sec/batch\n",
      "Epoch 1/10 Iteration: 3800 Avg. Training loss: 4.7531 0.4557 sec/batch\n",
      "Epoch 1/10 Iteration: 3900 Avg. Training loss: 4.7060 0.4588 sec/batch\n",
      "Epoch 1/10 Iteration: 4000 Avg. Training loss: 4.6604 0.4571 sec/batch\n",
      "Nearest to his: terrified, tenets, stonehenge, dignity, worry, soulful, lusp, encircled,\n",
      "Nearest to to: concept, attach, creep, arterial, popperian, neighbouring, believed, er,\n",
      "Nearest to he: author, upward, inaugural, humoral, qualified, sadducees, insightful, hoard,\n",
      "Nearest to there: scroll, invocation, sic, immigration, rennie, confusion, takeover, nilo,\n",
      "Nearest to their: preferring, chapel, hx, location, blest, advises, zeitgeist, dor,\n",
      "Nearest to between: determining, derives, disseminated, airpower, installed, increasingly, sputnik, unidentified,\n",
      "Nearest to been: crew, limiting, lemuria, protectorate, indication, kosovo, variations, army,\n",
      "Nearest to d: interval, lorraine, physician, bursting, individualist, soto, italian, wins,\n",
      "Nearest to defense: robotech, puzzle, acknowledged, finished, photographs, liquefied, rendered, kiesinger,\n"
     ]
    },
    {
     "name": "stdout",
     "output_type": "stream",
     "text": [
      "Nearest to existence: neptune, tipu, jann, maronite, adorning, bend, close, consulted,\n",
      "Nearest to experience: timeless, horizontal, pagans, locke, gmt, unpublished, chondrichthyes, brahma,\n",
      "Nearest to nobel: blaze, elena, sanshiro, singer, friedmann, b, dabbled, virginal,\n",
      "Nearest to know: digging, compared, dismissed, guildhall, respondents, overran, analyzer, hamito,\n",
      "Nearest to engineering: orbiter, emphasised, guilt, drew, aquilonia, community, clos, transylvania,\n",
      "Nearest to construction: rear, inconvenience, avian, fermium, zhang, shouting, shuster, bed,\n",
      "Nearest to recorded: excise, nun, roe, infect, hatched, camino, wernher, christmas,\n",
      "Epoch 1/10 Iteration: 4100 Avg. Training loss: 4.6670 0.4593 sec/batch\n",
      "Epoch 1/10 Iteration: 4200 Avg. Training loss: 4.6690 0.4610 sec/batch\n",
      "Epoch 1/10 Iteration: 4300 Avg. Training loss: 4.6320 0.4621 sec/batch\n",
      "Epoch 1/10 Iteration: 4400 Avg. Training loss: 4.6158 0.4649 sec/batch\n",
      "Epoch 1/10 Iteration: 4500 Avg. Training loss: 4.6196 0.4624 sec/batch\n",
      "Epoch 1/10 Iteration: 4600 Avg. Training loss: 4.6025 0.4628 sec/batch\n",
      "Epoch 2/10 Iteration: 4700 Avg. Training loss: 4.6106 0.3486 sec/batch\n",
      "Epoch 2/10 Iteration: 4800 Avg. Training loss: 4.5398 0.4653 sec/batch\n",
      "Epoch 2/10 Iteration: 4900 Avg. Training loss: 4.5005 0.4651 sec/batch\n",
      "Epoch 2/10 Iteration: 5000 Avg. Training loss: 4.4982 0.4649 sec/batch\n",
      "Nearest to his: terrified, tenets, dignity, daughter, stonehenge, son, brotherhood, lusp,\n",
      "Nearest to to: concept, attach, creep, popperian, preventing, neighbouring, er, arterial,\n",
      "Nearest to he: qualified, author, inaugural, humoral, sadducees, upward, mcbeal, cbs,\n",
      "Nearest to there: scroll, invocation, rachmaninoff, immigration, nilo, sic, confusion, rennie,\n",
      "Nearest to their: preferring, hx, location, zeitgeist, advises, deflect, chapel, rsha,\n",
      "Nearest to between: determining, disseminated, airpower, derives, increasingly, lactose, installed, karoline,\n",
      "Nearest to been: crew, lemuria, limiting, protectorate, kosovo, unsettling, indication, chas,\n",
      "Nearest to d: physician, painter, lorraine, italian, interval, five, poet, abbadie,\n",
      "Nearest to defense: robotech, puzzle, acknowledged, finished, rendered, wiesenthal, trimming, surmise,\n",
      "Nearest to existence: tipu, adorning, neptune, maronite, jann, close, illustrate, consulted,\n",
      "Nearest to experience: timeless, pagans, horizontal, locke, unpublished, brahma, gmt, chondrichthyes,\n",
      "Nearest to nobel: singer, blaze, physicist, elena, b, friedmann, louis, sanshiro,\n",
      "Nearest to know: digging, dismissed, compared, guildhall, respondents, pairs, overran, igoe,\n",
      "Nearest to engineering: orbiter, emphasised, community, aquilonia, clos, guilt, drew, bombarded,\n",
      "Nearest to construction: inconvenience, fermium, avian, zhang, rear, niosh, shuster, castrum,\n",
      "Nearest to recorded: excise, nun, roe, camino, hatched, wernher, infect, chapters,\n",
      "Epoch 2/10 Iteration: 5100 Avg. Training loss: 4.4681 0.4704 sec/batch\n",
      "Epoch 2/10 Iteration: 5200 Avg. Training loss: 4.4800 0.4650 sec/batch\n",
      "Epoch 2/10 Iteration: 5300 Avg. Training loss: 4.4572 0.4635 sec/batch\n",
      "Epoch 2/10 Iteration: 5400 Avg. Training loss: 4.5150 0.4638 sec/batch\n",
      "Epoch 2/10 Iteration: 5500 Avg. Training loss: 4.4741 0.4655 sec/batch\n",
      "Epoch 2/10 Iteration: 5600 Avg. Training loss: 4.4911 0.4638 sec/batch\n",
      "Epoch 2/10 Iteration: 5700 Avg. Training loss: 4.4406 0.4654 sec/batch\n",
      "Epoch 2/10 Iteration: 5800 Avg. Training loss: 4.4045 0.4638 sec/batch\n",
      "Epoch 2/10 Iteration: 5900 Avg. Training loss: 4.4447 0.4640 sec/batch\n",
      "Epoch 2/10 Iteration: 6000 Avg. Training loss: 4.4318 0.4574 sec/batch\n",
      "Nearest to his: terrified, tenets, dignity, daughter, son, stonehenge, brotherhood, lusp,\n",
      "Nearest to to: concept, creep, attach, arterial, autocorrelation, neighbouring, er, believed,\n",
      "Nearest to he: qualified, sadducees, author, inaugural, upward, humoral, lawgiver, mcbeal,\n",
      "Nearest to there: scroll, confusion, rachmaninoff, sic, invocation, compilations, nilo, rennie,\n",
      "Nearest to their: hx, preferring, zeitgeist, location, manos, deflect, advises, proxy,\n",
      "Nearest to between: determining, airpower, derives, lactose, increasingly, disseminated, installed, hemisphere,\n",
      "Nearest to been: crew, lemuria, limiting, protectorate, unsettling, kosovo, sanchez, chas,\n",
      "Nearest to d: physician, painter, interval, lorraine, abbadie, soto, memorizing, individualist,\n",
      "Nearest to defense: robotech, puzzle, acknowledged, wiesenthal, finished, rendered, surmise, local,\n",
      "Nearest to existence: tipu, adorning, neptune, illustrate, macromolecule, maronite, close, consulted,\n",
      "Nearest to experience: timeless, pagans, unpublished, brahma, horizontal, locke, gmt, goldfish,\n",
      "Nearest to nobel: elena, singer, physicist, blaze, friedmann, louis, trombonist, lynn,\n",
      "Nearest to know: digging, dismissed, compared, guildhall, pairs, respondents, pointer, overran,\n",
      "Nearest to engineering: orbiter, community, clos, emphasised, guilt, aquilonia, drew, bombarded,\n",
      "Nearest to construction: rear, inconvenience, fermium, avian, castrum, niosh, mostly, harmattan,\n",
      "Nearest to recorded: excise, nun, roe, camino, wernher, decipher, christmas, sessions,\n",
      "Epoch 2/10 Iteration: 6100 Avg. Training loss: 4.4374 0.4628 sec/batch\n",
      "Epoch 2/10 Iteration: 6200 Avg. Training loss: 4.4460 0.4603 sec/batch\n",
      "Epoch 2/10 Iteration: 6300 Avg. Training loss: 4.4570 0.4602 sec/batch\n",
      "Epoch 2/10 Iteration: 6400 Avg. Training loss: 4.4196 0.4593 sec/batch\n",
      "Epoch 2/10 Iteration: 6500 Avg. Training loss: 4.4202 0.4589 sec/batch\n",
      "Epoch 2/10 Iteration: 6600 Avg. Training loss: 4.4772 0.4591 sec/batch\n",
      "Epoch 2/10 Iteration: 6700 Avg. Training loss: 4.3695 0.4596 sec/batch\n",
      "Epoch 2/10 Iteration: 6800 Avg. Training loss: 4.3851 0.4620 sec/batch\n",
      "Epoch 2/10 Iteration: 6900 Avg. Training loss: 4.4241 0.4589 sec/batch\n",
      "Epoch 2/10 Iteration: 7000 Avg. Training loss: 4.3786 0.4605 sec/batch\n",
      "Nearest to his: terrified, daughter, tenets, dignity, son, stonehenge, lusp, encircled,\n",
      "Nearest to to: creep, concept, any, popperian, attach, autocorrelation, unicef, plea,\n",
      "Nearest to he: mcbeal, sadducees, inaugural, daikaiju, qualified, author, lawgiver, schismatic,\n",
      "Nearest to there: scroll, confusion, rachmaninoff, sic, nilo, zajdel, aegon, immigration,\n",
      "Nearest to their: hx, preferring, zeitgeist, manos, fed, deflect, advises, will,\n",
      "Nearest to between: determining, derives, disseminated, airpower, karoline, hemisphere, increasingly, lactose,\n",
      "Nearest to been: crew, lemuria, limiting, doped, protectorate, disagreements, kosovo, warhol,\n",
      "Nearest to d: physician, interval, painter, lorraine, memorizing, abbadie, sergei, soto,\n",
      "Nearest to defense: robotech, acknowledged, puzzle, wiesenthal, finished, pounders, organization, surmise,\n",
      "Nearest to existence: adorning, macromolecule, tipu, illustrate, consulted, mylar, jussive, edwina,\n",
      "Nearest to experience: timeless, unpublished, pagans, brahma, locke, horizontal, critics, gmt,\n",
      "Nearest to nobel: elena, physicist, blaze, singer, friedmann, henri, trombonist, lynn,\n",
      "Nearest to know: digging, compared, dismissed, pairs, pointer, guildhall, respondents, overran,\n",
      "Nearest to engineering: orbiter, clos, community, emphasised, drew, bombarded, francione, raton,\n",
      "Nearest to construction: rear, castrum, inconvenience, niosh, fermium, groundwater, avian, harmattan,\n",
      "Nearest to recorded: excise, nun, camino, roe, decipher, attributed, intermarriages, sessions,\n",
      "Epoch 2/10 Iteration: 7100 Avg. Training loss: 4.3794 0.4636 sec/batch\n",
      "Epoch 2/10 Iteration: 7200 Avg. Training loss: 4.3652 0.4605 sec/batch\n",
      "Epoch 2/10 Iteration: 7300 Avg. Training loss: 4.3584 0.4628 sec/batch\n",
      "Epoch 2/10 Iteration: 7400 Avg. Training loss: 4.3740 0.4603 sec/batch\n",
      "Epoch 2/10 Iteration: 7500 Avg. Training loss: 4.4408 0.4628 sec/batch\n",
      "Epoch 2/10 Iteration: 7600 Avg. Training loss: 4.3660 0.4602 sec/batch\n",
      "Epoch 2/10 Iteration: 7700 Avg. Training loss: 4.4098 0.4614 sec/batch\n",
      "Epoch 2/10 Iteration: 7800 Avg. Training loss: 4.3689 0.4622 sec/batch\n",
      "Epoch 2/10 Iteration: 7900 Avg. Training loss: 4.3353 0.4630 sec/batch\n",
      "Epoch 2/10 Iteration: 8000 Avg. Training loss: 4.3624 0.4595 sec/batch\n",
      "Nearest to his: terrified, dignity, daughter, son, tenets, stonehenge, worry, lusp,\n",
      "Nearest to to: concept, any, creep, iom, repelling, scratchpad, attach, believed,\n"
     ]
    },
    {
     "name": "stdout",
     "output_type": "stream",
     "text": [
      "Nearest to he: sadducees, mcbeal, inaugural, daikaiju, waff, humoral, lawgiver, qualified,\n",
      "Nearest to there: scroll, immigration, confusion, rachmaninoff, invocation, nilo, gateways, rennie,\n",
      "Nearest to their: preferring, hx, zeitgeist, advises, it, counselors, manos, will,\n",
      "Nearest to between: determining, airpower, derives, disseminated, hemisphere, minarets, karoline, agreement,\n",
      "Nearest to been: crew, lemuria, kosovo, protectorate, limiting, disagreements, luxuries, sanchez,\n",
      "Nearest to d: interval, physician, painter, memorizing, sergei, fela, abbadie, cray,\n",
      "Nearest to defense: robotech, acknowledged, wiesenthal, pounders, puzzle, organization, anselmo, boreal,\n",
      "Nearest to existence: macromolecule, tipu, adorning, illustrate, neptune, close, mylar, jussive,\n",
      "Nearest to experience: timeless, unpublished, locke, brahma, pagans, chondrichthyes, critics, horizontal,\n",
      "Nearest to nobel: elena, physicist, blaze, henri, trombonist, friedmann, sanshiro, singer,\n",
      "Nearest to know: digging, pairs, compared, pointer, dismissed, respondents, do, pains,\n",
      "Nearest to engineering: orbiter, community, clos, raton, emphasised, learning, register, aquilonia,\n",
      "Nearest to construction: castrum, niosh, inconvenience, rear, groundwater, fermium, harmattan, avian,\n",
      "Nearest to recorded: excise, nun, decipher, camino, solo, roe, christmas, intermarriages,\n",
      "Epoch 2/10 Iteration: 8100 Avg. Training loss: 4.3700 0.4731 sec/batch\n",
      "Epoch 2/10 Iteration: 8200 Avg. Training loss: 4.2894 0.4674 sec/batch\n",
      "Epoch 2/10 Iteration: 8300 Avg. Training loss: 4.3838 0.4655 sec/batch\n",
      "Epoch 2/10 Iteration: 8400 Avg. Training loss: 4.3795 0.4628 sec/batch\n",
      "Epoch 2/10 Iteration: 8500 Avg. Training loss: 4.3903 0.4620 sec/batch\n",
      "Epoch 2/10 Iteration: 8600 Avg. Training loss: 4.2960 0.4656 sec/batch\n",
      "Epoch 2/10 Iteration: 8700 Avg. Training loss: 4.3108 0.4581 sec/batch\n",
      "Epoch 2/10 Iteration: 8800 Avg. Training loss: 4.3406 0.4553 sec/batch\n",
      "Epoch 2/10 Iteration: 8900 Avg. Training loss: 4.2583 0.4593 sec/batch\n",
      "Epoch 2/10 Iteration: 9000 Avg. Training loss: 4.2919 0.4582 sec/batch\n",
      "Nearest to his: terrified, dignity, daughter, worry, stonehenge, tenets, son, lusp,\n",
      "Nearest to to: any, repelling, creep, concept, scratchpad, marrying, iom, illegality,\n",
      "Nearest to he: inaugural, mcbeal, daikaiju, knighthood, pietro, sadducees, waff, qualified,\n",
      "Nearest to there: scroll, confusion, immigration, zajdel, valletta, nilo, rachmaninoff, rennie,\n",
      "Nearest to their: zeitgeist, hx, preferring, rsha, manos, advises, counselors, activists,\n",
      "Nearest to between: determining, airpower, derives, disseminated, minarets, karoline, radiology, agreement,\n",
      "Nearest to been: crew, limiting, kosovo, lemuria, unsettling, disagreements, materials, doped,\n",
      "Nearest to d: physician, painter, interval, lorraine, italian, abbadie, conductor, poet,\n",
      "Nearest to defense: robotech, puzzle, wiesenthal, acknowledged, regiment, organization, pounders, anselmo,\n",
      "Nearest to existence: macromolecule, tipu, adorning, edwina, neptune, illustrate, mylar, maronite,\n",
      "Nearest to experience: unpublished, timeless, locke, chondrichthyes, brahma, pagans, critics, horizontal,\n",
      "Nearest to nobel: physicist, physiology, elena, trombonist, henri, biochemist, emil, b,\n",
      "Nearest to know: dismissed, digging, pairs, respondents, pains, savonarola, pointer, do,\n",
      "Nearest to engineering: community, orbiter, raton, clos, learning, emphasised, aquilonia, drew,\n",
      "Nearest to construction: castrum, inconvenience, groundwater, niosh, fermium, rear, harmattan, zhang,\n",
      "Nearest to recorded: excise, nun, camino, decipher, solo, sessions, wernher, christmas,\n",
      "Epoch 2/10 Iteration: 9100 Avg. Training loss: 4.2961 0.4659 sec/batch\n",
      "Epoch 2/10 Iteration: 9200 Avg. Training loss: 4.3052 0.4589 sec/batch\n",
      "Epoch 3/10 Iteration: 9300 Avg. Training loss: 4.3452 0.2309 sec/batch\n",
      "Epoch 3/10 Iteration: 9400 Avg. Training loss: 4.2565 0.4620 sec/batch\n",
      "Epoch 3/10 Iteration: 9500 Avg. Training loss: 4.2150 0.4603 sec/batch\n",
      "Epoch 3/10 Iteration: 9600 Avg. Training loss: 4.2180 0.4646 sec/batch\n",
      "Epoch 3/10 Iteration: 9700 Avg. Training loss: 4.2376 0.4608 sec/batch\n",
      "Epoch 3/10 Iteration: 9800 Avg. Training loss: 4.2242 0.4606 sec/batch\n",
      "Epoch 3/10 Iteration: 9900 Avg. Training loss: 4.2464 0.4614 sec/batch\n",
      "Epoch 3/10 Iteration: 10000 Avg. Training loss: 4.1763 0.4604 sec/batch\n",
      "Nearest to his: dignity, terrified, daughter, worry, son, tenets, osman, stonehenge,\n",
      "Nearest to to: any, repelling, scratchpad, creep, concept, illegality, autocorrelation, mandating,\n",
      "Nearest to he: inaugural, knighthood, daikaiju, qualified, mcbeal, sadducees, waff, pietro,\n",
      "Nearest to there: scroll, confusion, valletta, nilo, rachmaninoff, immigration, zajdel, sic,\n",
      "Nearest to their: preferring, manos, zeitgeist, hx, advises, rsha, defecting, counselors,\n",
      "Nearest to between: determining, airpower, derives, minarets, agreement, karoline, disseminated, fortresses,\n",
      "Nearest to been: crew, disagreements, lemuria, limiting, kosovo, unsettling, doped, booed,\n",
      "Nearest to d: physician, painter, interval, lorraine, abbadie, memorizing, italian, cray,\n",
      "Nearest to defense: robotech, regiment, organization, anselmo, wiesenthal, pounders, puzzle, pedrera,\n",
      "Nearest to existence: illustrate, adorning, edwina, macromolecule, tipu, neptune, masculism, jussive,\n",
      "Nearest to experience: unpublished, timeless, locke, brahma, chondrichthyes, critics, psychological, pagans,\n",
      "Nearest to nobel: physicist, elena, trombonist, physiology, henri, biochemist, sanshiro, prize,\n",
      "Nearest to know: dismissed, do, argument, pairs, respondents, pointer, savonarola, understood,\n",
      "Nearest to engineering: community, raton, orbiter, clos, emphasised, aquilonia, drew, register,\n",
      "Nearest to construction: castrum, groundwater, inconvenience, harmattan, niosh, fermium, rear, avian,\n",
      "Nearest to recorded: excise, nun, camino, decipher, solo, sessions, christmas, wernher,\n",
      "Epoch 3/10 Iteration: 10100 Avg. Training loss: 4.2553 0.4681 sec/batch\n",
      "Epoch 3/10 Iteration: 10200 Avg. Training loss: 4.2562 0.4583 sec/batch\n",
      "Epoch 3/10 Iteration: 10300 Avg. Training loss: 4.2174 0.4605 sec/batch\n",
      "Epoch 3/10 Iteration: 10400 Avg. Training loss: 4.1430 0.4605 sec/batch\n",
      "Epoch 3/10 Iteration: 10500 Avg. Training loss: 4.2028 0.4584 sec/batch\n",
      "Epoch 3/10 Iteration: 10600 Avg. Training loss: 4.1454 0.4581 sec/batch\n",
      "Epoch 3/10 Iteration: 10700 Avg. Training loss: 4.2041 0.4595 sec/batch\n",
      "Epoch 3/10 Iteration: 10800 Avg. Training loss: 4.2029 0.4615 sec/batch\n",
      "Epoch 3/10 Iteration: 10900 Avg. Training loss: 4.2118 0.4621 sec/batch\n",
      "Epoch 3/10 Iteration: 11000 Avg. Training loss: 4.1908 0.4614 sec/batch\n",
      "Nearest to his: terrified, dignity, worry, osman, daughter, soulful, son, lusp,\n",
      "Nearest to to: any, creep, repelling, scratchpad, concept, autocorrelation, fez, piercers,\n",
      "Nearest to he: inaugural, daikaiju, knighthood, mcbeal, qualified, sadducees, lawgiver, waff,\n",
      "Nearest to there: scroll, immigration, gateways, confusion, sic, valletta, zajdel, rachmaninoff,\n",
      "Nearest to their: preferring, manos, hx, zeitgeist, advises, tripping, defecting, rsha,\n",
      "Nearest to between: determining, derives, airpower, disseminated, minarets, agreement, karoline, radiology,\n",
      "Nearest to been: unsettling, crew, doped, lemuria, limiting, disagreements, brueys, booed,\n",
      "Nearest to d: interval, physician, memorizing, painter, cray, abbadie, fela, girard,\n",
      "Nearest to defense: robotech, regiment, pedrera, pounders, puzzle, organization, anselmo, cobalt,\n",
      "Nearest to existence: macromolecule, tipu, illustrate, edwina, neptune, adorning, jussive, masculism,\n",
      "Nearest to experience: unpublished, locke, timeless, brahma, chondrichthyes, psychological, critics, risky,\n",
      "Nearest to nobel: physicist, physiology, elena, trombonist, henri, sanshiro, biochemist, blaze,\n",
      "Nearest to know: pointer, pairs, argument, debunked, compared, do, pains, guildhall,\n",
      "Nearest to engineering: community, raton, clos, orbiter, emphasised, learning, aquilonia, drew,\n",
      "Nearest to construction: castrum, inconvenience, groundwater, niosh, rear, avian, tibbets, fermium,\n",
      "Nearest to recorded: excise, solo, nun, camino, sessions, christmas, decipher, violin,\n",
      "Epoch 3/10 Iteration: 11100 Avg. Training loss: 4.1949 0.4722 sec/batch\n",
      "Epoch 3/10 Iteration: 11200 Avg. Training loss: 4.2282 0.4632 sec/batch\n"
     ]
    },
    {
     "name": "stdout",
     "output_type": "stream",
     "text": [
      "Epoch 3/10 Iteration: 11300 Avg. Training loss: 4.1991 0.4650 sec/batch\n",
      "Epoch 3/10 Iteration: 11400 Avg. Training loss: 4.1497 0.4636 sec/batch\n",
      "Epoch 3/10 Iteration: 11500 Avg. Training loss: 4.1920 0.4606 sec/batch\n",
      "Epoch 3/10 Iteration: 11600 Avg. Training loss: 4.1796 0.4625 sec/batch\n",
      "Epoch 3/10 Iteration: 11700 Avg. Training loss: 4.2103 0.4644 sec/batch\n",
      "Epoch 3/10 Iteration: 11800 Avg. Training loss: 4.1722 0.4623 sec/batch\n",
      "Epoch 3/10 Iteration: 11900 Avg. Training loss: 4.1531 0.4627 sec/batch\n",
      "Epoch 3/10 Iteration: 12000 Avg. Training loss: 4.1798 0.4623 sec/batch\n",
      "Nearest to his: terrified, dignity, worry, soulful, daughter, spada, lusp, son,\n",
      "Nearest to to: any, believed, repelling, concept, fez, popperian, unicef, creep,\n",
      "Nearest to he: daikaiju, inaugural, lawgiver, mcbeal, qualified, waff, knighthood, became,\n",
      "Nearest to there: scroll, confusion, valletta, sic, gateways, immigration, nilo, transsexualism,\n",
      "Nearest to their: hx, zeitgeist, manos, advises, preferring, caste, defecting, tripping,\n",
      "Nearest to between: determining, derives, airpower, disseminated, minarets, agreement, hemisphere, radiology,\n",
      "Nearest to been: disagreements, doped, lemuria, unsettling, brueys, limiting, chas, described,\n",
      "Nearest to d: physician, interval, painter, memorizing, girard, cray, jakob, lorraine,\n",
      "Nearest to defense: robotech, regiment, pedrera, pounders, puzzle, organization, embarked, cobalt,\n",
      "Nearest to existence: neptune, macromolecule, tipu, edwina, adorning, masculism, illustrate, goodness,\n",
      "Nearest to experience: unpublished, locke, timeless, brahma, psychological, critics, chondrichthyes, risky,\n",
      "Nearest to nobel: physicist, physiology, elena, sanshiro, henri, trombonist, biochemist, emil,\n",
      "Nearest to know: compared, do, pointer, argument, flung, debunked, pairs, respondents,\n",
      "Nearest to engineering: raton, community, learning, orbiter, clos, aquilonia, podcasting, freeman,\n",
      "Nearest to construction: castrum, inconvenience, niosh, groundwater, tibbets, fermium, harmattan, rear,\n",
      "Nearest to recorded: excise, nun, christmas, solo, sessions, camino, decipher, choreographed,\n",
      "Epoch 3/10 Iteration: 12100 Avg. Training loss: 4.2132 0.4615 sec/batch\n",
      "Epoch 3/10 Iteration: 12200 Avg. Training loss: 4.1786 0.4598 sec/batch\n",
      "Epoch 3/10 Iteration: 12300 Avg. Training loss: 4.2159 0.4579 sec/batch\n",
      "Epoch 3/10 Iteration: 12400 Avg. Training loss: 4.2022 0.4585 sec/batch\n",
      "Epoch 3/10 Iteration: 12500 Avg. Training loss: 4.1708 0.4609 sec/batch\n",
      "Epoch 3/10 Iteration: 12600 Avg. Training loss: 4.1658 0.4577 sec/batch\n",
      "Epoch 3/10 Iteration: 12700 Avg. Training loss: 4.1788 0.4629 sec/batch\n",
      "Epoch 3/10 Iteration: 12800 Avg. Training loss: 4.1538 0.4665 sec/batch\n",
      "Epoch 3/10 Iteration: 12900 Avg. Training loss: 4.2065 0.4776 sec/batch\n",
      "Epoch 3/10 Iteration: 13000 Avg. Training loss: 4.2257 0.4703 sec/batch\n",
      "Nearest to his: terrified, dignity, close, worry, he, soulful, shortcomings, spada,\n",
      "Nearest to to: repelling, any, plea, unwillingness, marrying, illegality, had, fez,\n",
      "Nearest to he: became, inaugural, his, knighthood, daikaiju, mcbeal, was, pietro,\n",
      "Nearest to there: scroll, zajdel, immigration, valletta, confusion, celebration, nilo, gateways,\n",
      "Nearest to their: caste, advises, zeitgeist, preferring, manos, defecting, rsha, hx,\n",
      "Nearest to between: determining, airpower, agreement, derives, disseminated, minarets, practice, fortresses,\n",
      "Nearest to been: disagreements, brueys, unsettling, chas, kosovo, described, doped, lemuria,\n",
      "Nearest to d: physician, painter, interval, lorraine, italian, abbadie, memorizing, poet,\n",
      "Nearest to defense: robotech, regiment, pedrera, puzzle, pounders, snipe, organization, wiesenthal,\n",
      "Nearest to existence: neptune, edwina, tipu, macromolecule, adorning, maronite, tauranac, ronald,\n",
      "Nearest to experience: unpublished, locke, timeless, psychological, chondrichthyes, critics, brahma, risky,\n",
      "Nearest to nobel: physiology, physicist, henri, elena, prize, sanshiro, biochemist, emil,\n",
      "Nearest to know: compared, do, debunked, pointer, dismissed, pairs, savonarola, flung,\n",
      "Nearest to engineering: raton, community, learning, aquilonia, orbiter, emphasised, freeman, podcasting,\n",
      "Nearest to construction: castrum, tibbets, inconvenience, presidential, groundwater, fermium, elebi, niosh,\n",
      "Nearest to recorded: excise, solo, nun, sessions, christmas, camino, choreographed, decipher,\n",
      "Epoch 3/10 Iteration: 13100 Avg. Training loss: 4.2435 0.5459 sec/batch\n",
      "Epoch 3/10 Iteration: 13200 Avg. Training loss: 4.1345 0.4769 sec/batch\n",
      "Epoch 3/10 Iteration: 13300 Avg. Training loss: 4.1430 0.4659 sec/batch\n",
      "Epoch 3/10 Iteration: 13400 Avg. Training loss: 4.1656 0.4657 sec/batch\n",
      "Epoch 3/10 Iteration: 13500 Avg. Training loss: 4.0474 0.4698 sec/batch\n",
      "Epoch 3/10 Iteration: 13600 Avg. Training loss: 4.1602 0.4736 sec/batch\n",
      "Epoch 3/10 Iteration: 13700 Avg. Training loss: 4.1579 0.4735 sec/batch\n",
      "Epoch 3/10 Iteration: 13800 Avg. Training loss: 4.1543 0.4716 sec/batch\n",
      "Epoch 4/10 Iteration: 13900 Avg. Training loss: 4.1671 0.1253 sec/batch\n",
      "Epoch 4/10 Iteration: 14000 Avg. Training loss: 4.1072 0.4810 sec/batch\n",
      "Nearest to his: dignity, terrified, worry, he, soulful, close, shortcomings, spada,\n",
      "Nearest to to: any, repelling, autocorrelation, soundex, unwillingness, had, mandating, concept,\n",
      "Nearest to he: became, his, inaugural, daikaiju, knighthood, qualified, mcbeal, friend,\n",
      "Nearest to there: valletta, scroll, gateways, nilo, zajdel, adjacent, white, confusion,\n",
      "Nearest to their: caste, advises, preferring, zeitgeist, hx, defecting, manos, idiocy,\n",
      "Nearest to between: determining, derives, agreement, airpower, disseminated, minarets, fortresses, radiology,\n",
      "Nearest to been: unsettling, doped, chas, disagreements, described, brueys, lemuria, crew,\n",
      "Nearest to d: physician, painter, interval, lorraine, girard, abbadie, italian, poet,\n",
      "Nearest to defense: robotech, pedrera, regiment, puzzle, pounders, snipe, cobalt, lawyer,\n",
      "Nearest to existence: neptune, edwina, tipu, macromolecule, erickson, ronald, consulted, q,\n",
      "Nearest to experience: unpublished, locke, psychological, chondrichthyes, critics, timeless, risky, brahma,\n",
      "Nearest to nobel: physicist, physiology, prize, henri, sanshiro, elena, biochemist, emil,\n",
      "Nearest to know: debunked, do, pointer, compared, pairs, dismissed, flung, respondents,\n",
      "Nearest to engineering: raton, community, learning, aquilonia, emphasised, orbiter, freeman, podcasting,\n",
      "Nearest to construction: castrum, groundwater, tibbets, inconvenience, buildings, elebi, avian, niosh,\n",
      "Nearest to recorded: excise, nun, solo, camino, christmas, sessions, toured, sextet,\n",
      "Epoch 4/10 Iteration: 14100 Avg. Training loss: 4.0869 0.4827 sec/batch\n"
     ]
    }
   ],
   "source": [
    "epochs = 10\n",
    "batch_size = 1000\n",
    "window_size = 10\n",
    "\n",
    "with train_graph.as_default():\n",
    "    saver = tf.train.Saver()\n",
    "\n",
    "with tf.Session(graph=train_graph) as sess:\n",
    "    iteration = 1\n",
    "    loss = 0\n",
    "    sess.run(tf.global_variables_initializer())\n",
    "\n",
    "    for e in range(1, epochs+1):\n",
    "        batches = get_batches(train_words, batch_size, window_size)\n",
    "        start = time.time()\n",
    "        for x, y in batches:\n",
    "            \n",
    "            feed = {inputs: x,\n",
    "                    labels: np.array(y)[:, None]}\n",
    "            train_loss, _ = sess.run([cost, optimizer], feed_dict=feed)\n",
    "            \n",
    "            loss += train_loss\n",
    "            \n",
    "            if iteration % 100 == 0: \n",
    "                end = time.time()\n",
    "                print(\"Epoch {}/{}\".format(e, epochs),\n",
    "                      \"Iteration: {}\".format(iteration),\n",
    "                      \"Avg. Training loss: {:.4f}\".format(loss/100),\n",
    "                      \"{:.4f} sec/batch\".format((end-start)/100))\n",
    "                loss = 0\n",
    "                start = time.time()\n",
    "            \n",
    "            if iteration % 1000 == 0:\n",
    "                ## From Thushan Ganegedara's implementation\n",
    "                # note that this is expensive (~20% slowdown if computed every 500 steps)\n",
    "                sim = similarity.eval()\n",
    "                for i in range(valid_size):\n",
    "                    valid_word = int_to_vocab[valid_examples[i]]\n",
    "                    top_k = 8 # number of nearest neighbors\n",
    "                    nearest = (-sim[i, :]).argsort()[1:top_k+1]\n",
    "                    log = 'Nearest to %s:' % valid_word\n",
    "                    for k in range(top_k):\n",
    "                        close_word = int_to_vocab[nearest[k]]\n",
    "                        log = '%s %s,' % (log, close_word)\n",
    "                    print(log)\n",
    "            \n",
    "            iteration += 1\n",
    "    save_path = saver.save(sess, \"checkpoints/text8.ckpt\")\n",
    "    embed_mat = sess.run(normalized_embedding)"
   ]
  },
  {
   "cell_type": "markdown",
   "metadata": {},
   "source": [
    "Restore the trained network if you need to:"
   ]
  },
  {
   "cell_type": "code",
   "execution_count": null,
   "metadata": {
    "collapsed": true
   },
   "outputs": [],
   "source": [
    "with train_graph.as_default():\n",
    "    saver = tf.train.Saver()\n",
    "\n",
    "with tf.Session(graph=train_graph) as sess:\n",
    "    saver.restore(sess, tf.train.latest_checkpoint('checkpoints'))\n",
    "    embed_mat = sess.run(embedding)"
   ]
  },
  {
   "cell_type": "markdown",
   "metadata": {},
   "source": [
    "## Visualizing the word vectors\n",
    "\n",
    "Below we'll use T-SNE to visualize how our high-dimensional word vectors cluster together. T-SNE is used to project these vectors into two dimensions while preserving local stucture. Check out [this post from Christopher Olah](http://colah.github.io/posts/2014-10-Visualizing-MNIST/) to learn more about T-SNE and other ways to visualize high-dimensional data."
   ]
  },
  {
   "cell_type": "code",
   "execution_count": null,
   "metadata": {
    "collapsed": true
   },
   "outputs": [],
   "source": [
    "%matplotlib inline\n",
    "%config InlineBackend.figure_format = 'retina'\n",
    "\n",
    "import matplotlib.pyplot as plt\n",
    "from sklearn.manifold import TSNE"
   ]
  },
  {
   "cell_type": "code",
   "execution_count": null,
   "metadata": {
    "collapsed": true
   },
   "outputs": [],
   "source": [
    "viz_words = 500\n",
    "tsne = TSNE()\n",
    "embed_tsne = tsne.fit_transform(embed_mat[:viz_words, :])"
   ]
  },
  {
   "cell_type": "code",
   "execution_count": null,
   "metadata": {
    "collapsed": true
   },
   "outputs": [],
   "source": [
    "fig, ax = plt.subplots(figsize=(14, 14))\n",
    "for idx in range(viz_words):\n",
    "    plt.scatter(*embed_tsne[idx, :], color='steelblue')\n",
    "    plt.annotate(int_to_vocab[idx], (embed_tsne[idx, 0], embed_tsne[idx, 1]), alpha=0.7)"
   ]
  }
 ],
 "metadata": {
  "kernelspec": {
   "display_name": "Python [default]",
   "language": "python",
   "name": "python3"
  },
  "language_info": {
   "codemirror_mode": {
    "name": "ipython",
    "version": 3
   },
   "file_extension": ".py",
   "mimetype": "text/x-python",
   "name": "python",
   "nbconvert_exporter": "python",
   "pygments_lexer": "ipython3",
   "version": "3.5.2"
  }
 },
 "nbformat": 4,
 "nbformat_minor": 2
}
