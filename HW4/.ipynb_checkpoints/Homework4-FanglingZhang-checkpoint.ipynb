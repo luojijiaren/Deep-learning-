{
 "cells": [
  {
   "cell_type": "code",
   "execution_count": 1,
   "metadata": {
    "collapsed": true
   },
   "outputs": [],
   "source": [
    "from numpy import *\n",
    "import numpy as np\n",
    "trainingX=np.load(\"mnist_train_images.npy\")\n",
    "trainingY=np.load(\"mnist_train_labels.npy\")\n",
    "testingX=np.load(\"mnist_test_images.npy\")\n",
    "testingY=np.load(\"mnist_test_labels.npy\")\n",
    "\n"
   ]
  },
  {
   "cell_type": "code",
   "execution_count": 2,
   "metadata": {
    "collapsed": true
   },
   "outputs": [],
   "source": [
    "\n",
    "def J (w, faces, labels):\n",
    "    f=exp(np.dot(faces,w))\n",
    "    y_hat=f/f.sum(axis=1)[:,None]\n",
    "    m=labels.shape[0]\n",
    "    Jsum=0\n",
    "    for i in range(0,m):\n",
    "        Jsum=Jsum+np.dot(labels[i,:].T,log(y_hat[i,:]))\n",
    "    J=-1/m*Jsum\n",
    "    return J  \n",
    "\n",
    "def gradJ (w, faces, labels):\n",
    "    f=exp(np.dot(faces,w))\n",
    "    y_hat=f/f.sum(axis=1)[:,None]\n",
    "    gradJ=np.dot(faces.T,(y_hat-labels))\n",
    "    return gradJ "
   ]
  },
  {
   "cell_type": "code",
   "execution_count": 4,
   "metadata": {
    "collapsed": false
   },
   "outputs": [
    {
     "data": {
      "text/plain": [
       "array([[ 0.,  0.,  0., ...,  0.,  0.,  0.],\n",
       "       [ 0.,  0.,  0., ...,  0.,  0.,  0.],\n",
       "       [ 0.,  0.,  0., ...,  0.,  0.,  0.],\n",
       "       ..., \n",
       "       [ 0.,  0.,  0., ...,  0.,  0.,  0.],\n",
       "       [ 0.,  0.,  0., ...,  0.,  0.,  0.],\n",
       "       [ 0.,  0.,  0., ...,  0.,  0.,  0.]])"
      ]
     },
     "execution_count": 4,
     "metadata": {},
     "output_type": "execute_result"
    }
   ],
   "source": [
    "    w=np.zeros((784,10)) # Or set to random vector\n",
    "    J_dif=1\n",
    "    cost=[]\n",
    "    n=0\n",
    "    while J_dif > 0.001:\n",
    "        J0=J (w, trainingX, trainingY)\n",
    "        Des_gradJ=gradJ (w, trainingX, trainingY)\n",
    "        w=w-0.000002*Des_gradJ\n",
    "        J1=J (w, trainingX, trainingY)\n",
    "        J_dif=J0-J1\n",
    "        cost.append(J1)\n",
    "    cost\n",
    "    w\n",
    "\n",
    "    \n"
   ]
  },
  {
   "cell_type": "code",
   "execution_count": 27,
   "metadata": {
    "collapsed": false
   },
   "outputs": [
    {
     "name": "stdout",
     "output_type": "stream",
     "text": [
      "Training cost:['0.5396', '0.5384', '0.5371', '0.5359', '0.5348', '0.5336', '0.5324', '0.5313', '0.5302', '0.5291', '0.5280', '0.5269', '0.5258', '0.5247', '0.5237', '0.5227', '0.5216', '0.5206', '0.5196', '0.5186'] \n"
     ]
    }
   ],
   "source": [
    "myList=cost[-20:]\n",
    "b=['%.4f' %elem for elem in myList]\n",
    "print(\"Training cost:{} \".format(b) )\n",
    " "
   ]
  },
  {
   "cell_type": "code",
   "execution_count": 46,
   "metadata": {
    "collapsed": false
   },
   "outputs": [],
   "source": [
    " \n",
    "f=exp(np.dot(testingX,w))\n",
    "y_hat=f/f.sum(axis=1)[:,None]\n"
   ]
  },
  {
   "cell_type": "code",
   "execution_count": 33,
   "metadata": {
    "collapsed": false
   },
   "outputs": [
    {
     "data": {
      "text/plain": [
       "array([7, 2, 1, ..., 4, 8, 6], dtype=int64)"
      ]
     },
     "execution_count": 33,
     "metadata": {},
     "output_type": "execute_result"
    }
   ],
   "source": [
    "y_hat.argmax(axis=1)"
   ]
  },
  {
   "cell_type": "code",
   "execution_count": 47,
   "metadata": {
    "collapsed": false
   },
   "outputs": [
    {
     "name": "stdout",
     "output_type": "stream",
     "text": [
      "The accuracy on the testing set: 0.8816\n"
     ]
    }
   ],
   "source": [
    "f=exp(np.dot(testingX,w))\n",
    "y_hat=f/f.sum(axis=1)[:,None]\n",
    "m=testingY.shape[0]\n",
    "n=0\n",
    "for i in range(0,m):\n",
    "    for j in range(0,10):\n",
    "        if (y_hat[i,j]==np.sort(y_hat[i,:])[-1]):\n",
    "            y_hat[i,j]=1\n",
    "        else:\n",
    "            y_hat[i,j]=0   \n",
    "                                  \n",
    "    if (y_hat[i,:]==testingY[i,:]).all():\n",
    "        n=n+1\n",
    "a=round(n/m,4)\n",
    "print(\"The accuracy on the testing set: {}\".format(a))"
   ]
  }
 ],
 "metadata": {
  "anaconda-cloud": {},
  "kernelspec": {
   "display_name": "Python [conda root]",
   "language": "python",
   "name": "conda-root-py"
  },
  "language_info": {
   "codemirror_mode": {
    "name": "ipython",
    "version": 3
   },
   "file_extension": ".py",
   "mimetype": "text/x-python",
   "name": "python",
   "nbconvert_exporter": "python",
   "pygments_lexer": "ipython3",
   "version": "3.5.2"
  }
 },
 "nbformat": 4,
 "nbformat_minor": 1
}
